{
  "cells": [
    {
      "cell_type": "code",
      "execution_count": 1,
      "metadata": {
        "id": "yQnX0K3gys8q"
      },
      "outputs": [],
      "source": [
        "import numpy as np\n",
        "\n",
        "np.random.seed(0)"
      ]
    },
    {
      "cell_type": "markdown",
      "metadata": {
        "id": "0pvScis_zsKd"
      },
      "source": [
        "### Exercise 1: Create an Array with Standard Normal Distribution\n",
        "\n",
        "Imagine you want to initialize a random time series dataset. Where you have $N$ time series, each with length $L$ and you observe $P$ feature values in each time step. Initialize such a time series dataset $X$ with shape $(N, L, P)$ where each value follows a standard normal distribution"
      ]
    },
    {
      "cell_type": "code",
      "execution_count": 2,
      "metadata": {
        "id": "qevbYHM7y1aK"
      },
      "outputs": [],
      "source": [
        "N = 8\n",
        "L = 4\n",
        "P = 2\n",
        "\n",
        "X = np.random.randn(N, L, P)\n",
        "\n",
        "\n",
        "assert X.shape == (N, L, P)\n",
        "assert np.allclose(X[0,0,0], 1.764052345967664)"
      ]
    },
    {
      "cell_type": "markdown",
      "metadata": {
        "id": "u7G1vPF11rp2"
      },
      "source": [
        "### Exercise 2: Reshape\n",
        "\n",
        "When writing deep learning code, you may find that you will use the heuristics of shape matching to make code work, especially when writing backprop. Such heuristics would guide you to the right direction in a lot of cases, but could also sometimes be wrong. You need to be careful about what `reshape` is really doing under the hood. We want to give you such a flavor in this exercise.\n",
        "\n",
        "Imagine now you come up with an interesting operation on this dataset, which is to combine every two adjacent time series, so that you will still have $L$ time steps but only $N / 2$ time series and $2P$ feature values in each time series. Think about how to implement this."
      ]
    },
    {
      "cell_type": "code",
      "execution_count": null,
      "metadata": {},
      "outputs": [],
      "source": []
    },
    {
      "cell_type": "code",
      "execution_count": 3,
      "metadata": {
        "id": "o6wU3xZt5Mt8"
      },
      "outputs": [],
      "source": [
        "new_X = np.empty((N//2, L, 2*P))\n",
        "for i in range(N//2):\n",
        "    new_X[i, :, :P] = X[2*i, :, :]\n",
        "    new_X[i, :, P:] = X[2*i + 1, :, :]\n",
        "\n",
        "\n",
        "# The third feature value is the second time series's first feature value\n",
        "assert new_X[0][0][2] == X[1][0][0]"
      ]
    },
    {
      "cell_type": "markdown",
      "metadata": {
        "id": "JyAdpY_q87zj"
      },
      "source": [
        "### Exercise 3: Mystery of Broadcast\n",
        "\n",
        "You will not need to write code in this exercise.\n",
        "\n",
        "You may sometimes find it confusing when broadcasting is possible. So in this exercise, we would like you to have a flavor about this and think about the rule of broadcast in NumPy. The general rule is that starting from the right most dimension, and two arrays are compatible with broadcasting if (1) they are equal; (2) one of them is 1. Please find more details in the documentation about broadcasting rules here: https://numpy.org/doc/stable/user/basics.broadcasting.html"
      ]
    },
    {
      "cell_type": "code",
      "execution_count": 7,
      "metadata": {
        "id": "crztKPfU9AXT"
      },
      "outputs": [
        {
          "name": "stdout",
          "output_type": "stream",
          "text": [
            "[[2. 2. 2.]\n",
            " [2. 2. 2.]]\n",
            "#\n",
            "[[2. 2. 2.]\n",
            " [2. 2. 2.]]\n",
            "#\n",
            "[[[2. 2. 2.]\n",
            "  [2. 2. 2.]\n",
            "  [2. 2. 2.]\n",
            "  ...\n",
            "  [2. 2. 2.]\n",
            "  [2. 2. 2.]\n",
            "  [2. 2. 2.]]\n",
            "\n",
            " [[2. 2. 2.]\n",
            "  [2. 2. 2.]\n",
            "  [2. 2. 2.]\n",
            "  ...\n",
            "  [2. 2. 2.]\n",
            "  [2. 2. 2.]\n",
            "  [2. 2. 2.]]\n",
            "\n",
            " [[2. 2. 2.]\n",
            "  [2. 2. 2.]\n",
            "  [2. 2. 2.]\n",
            "  ...\n",
            "  [2. 2. 2.]\n",
            "  [2. 2. 2.]\n",
            "  [2. 2. 2.]]\n",
            "\n",
            " ...\n",
            "\n",
            " [[2. 2. 2.]\n",
            "  [2. 2. 2.]\n",
            "  [2. 2. 2.]\n",
            "  ...\n",
            "  [2. 2. 2.]\n",
            "  [2. 2. 2.]\n",
            "  [2. 2. 2.]]\n",
            "\n",
            " [[2. 2. 2.]\n",
            "  [2. 2. 2.]\n",
            "  [2. 2. 2.]\n",
            "  ...\n",
            "  [2. 2. 2.]\n",
            "  [2. 2. 2.]\n",
            "  [2. 2. 2.]]\n",
            "\n",
            " [[2. 2. 2.]\n",
            "  [2. 2. 2.]\n",
            "  [2. 2. 2.]\n",
            "  ...\n",
            "  [2. 2. 2.]\n",
            "  [2. 2. 2.]\n",
            "  [2. 2. 2.]]]\n",
            "#\n"
          ]
        },
        {
          "ename": "ValueError",
          "evalue": "operands could not be broadcast together with shapes (32,32,3) (32,) ",
          "output_type": "error",
          "traceback": [
            "\u001b[1;31m---------------------------------------------------------------------------\u001b[0m",
            "\u001b[1;31mValueError\u001b[0m                                Traceback (most recent call last)",
            "\u001b[1;32m~\\AppData\\Local\\Temp/ipykernel_7192/1574503513.py\u001b[0m in \u001b[0;36m<module>\u001b[1;34m\u001b[0m\n\u001b[0;32m      9\u001b[0m \u001b[0mprint\u001b[0m\u001b[1;33m(\u001b[0m\u001b[0mnp\u001b[0m\u001b[1;33m.\u001b[0m\u001b[0mones\u001b[0m\u001b[1;33m(\u001b[0m\u001b[1;33m(\u001b[0m\u001b[1;36m32\u001b[0m\u001b[1;33m,\u001b[0m \u001b[1;36m32\u001b[0m\u001b[1;33m,\u001b[0m \u001b[1;36m3\u001b[0m\u001b[1;33m)\u001b[0m\u001b[1;33m)\u001b[0m \u001b[1;33m+\u001b[0m \u001b[0mnp\u001b[0m\u001b[1;33m.\u001b[0m\u001b[0mones\u001b[0m\u001b[1;33m(\u001b[0m\u001b[1;33m(\u001b[0m\u001b[1;36m3\u001b[0m\u001b[1;33m,\u001b[0m\u001b[1;33m)\u001b[0m\u001b[1;33m)\u001b[0m\u001b[1;33m)\u001b[0m\u001b[1;33m\u001b[0m\u001b[1;33m\u001b[0m\u001b[0m\n\u001b[0;32m     10\u001b[0m \u001b[0mprint\u001b[0m\u001b[1;33m(\u001b[0m\u001b[1;34m'#'\u001b[0m\u001b[1;33m)\u001b[0m\u001b[1;33m\u001b[0m\u001b[1;33m\u001b[0m\u001b[0m\n\u001b[1;32m---> 11\u001b[1;33m \u001b[0mprint\u001b[0m\u001b[1;33m(\u001b[0m\u001b[0mnp\u001b[0m\u001b[1;33m.\u001b[0m\u001b[0mones\u001b[0m\u001b[1;33m(\u001b[0m\u001b[1;33m(\u001b[0m\u001b[1;36m32\u001b[0m\u001b[1;33m,\u001b[0m \u001b[1;36m32\u001b[0m\u001b[1;33m,\u001b[0m \u001b[1;36m3\u001b[0m\u001b[1;33m)\u001b[0m\u001b[1;33m)\u001b[0m \u001b[1;33m+\u001b[0m \u001b[0mnp\u001b[0m\u001b[1;33m.\u001b[0m\u001b[0mones\u001b[0m\u001b[1;33m(\u001b[0m\u001b[1;33m(\u001b[0m\u001b[1;36m32\u001b[0m\u001b[1;33m,\u001b[0m\u001b[1;33m)\u001b[0m\u001b[1;33m)\u001b[0m\u001b[1;33m)\u001b[0m\u001b[1;33m\u001b[0m\u001b[1;33m\u001b[0m\u001b[0m\n\u001b[0m",
            "\u001b[1;31mValueError\u001b[0m: operands could not be broadcast together with shapes (32,32,3) (32,) "
          ]
        }
      ],
      "source": [
        "# Think about whether the following operations are possible for broadcasting\n",
        "# If not, think about why\n",
        "np.ones((2,3)) + np.ones((2,1))  #可以广播\n",
        "np.ones((2,3)) + np.ones((1,3))  #可以广播\n",
        "\n",
        "# Why only one of them works?\n",
        "np.ones((32, 32, 3)) + np.ones((3,))  #可以广播\n",
        "np.ones((32, 32, 3)) + np.ones((32,)) #不可以广播，会报错\n"
      ]
    },
    {
      "cell_type": "code",
      "execution_count": null,
      "metadata": {},
      "outputs": [],
      "source": []
    }
  ],
  "metadata": {
    "colab": {
      "provenance": []
    },
    "kernelspec": {
      "display_name": "Python 3.8.10 ('torch17')",
      "language": "python",
      "name": "python3"
    },
    "language_info": {
      "codemirror_mode": {
        "name": "ipython",
        "version": 3
      },
      "file_extension": ".py",
      "mimetype": "text/x-python",
      "name": "python",
      "nbconvert_exporter": "python",
      "pygments_lexer": "ipython3",
      "version": "3.8.10"
    },
    "vscode": {
      "interpreter": {
        "hash": "9a34e97cc6e2615ab92a28698ea9d0348d286f96a72c3605984746b76cc50ac7"
      }
    }
  },
  "nbformat": 4,
  "nbformat_minor": 0
}

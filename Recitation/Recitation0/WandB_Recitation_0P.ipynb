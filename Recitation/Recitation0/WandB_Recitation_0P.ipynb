{
  "cells": [
    {
      "cell_type": "markdown",
      "metadata": {
        "id": "-m4sB0AwIO_X"
      },
      "source": [
        "# Recitation 0P: Weights and Biases\n",
        "\n",
        "In this recitation, you will learn about the importance of performance visualization and model tracking using [WandB](https://wandb.ai/), a tool for performance visualization, model and data version controlling and hyperparameter tuning."
      ]
    },
    {
      "cell_type": "markdown",
      "metadata": {
        "id": "nBa-j_M5sBHX"
      },
      "source": [
        "## Installation and Libraries"
      ]
    },
    {
      "cell_type": "code",
      "execution_count": null,
      "metadata": {
        "id": "8nqdSi0QvUHQ"
      },
      "outputs": [],
      "source": [
        "## Installing WandB\n",
        "!pip install wandb -qqq"
      ]
    },
    {
      "cell_type": "code",
      "execution_count": null,
      "metadata": {
        "colab": {
          "base_uri": "https://localhost:8080/"
        },
        "id": "WCGHNaJZqzix",
        "outputId": "0932f7df-979f-4756-c573-fbfc64fa27e5"
      },
      "outputs": [
        {
          "name": "stdout",
          "output_type": "stream",
          "text": [
            "Device:  cuda\n"
          ]
        }
      ],
      "source": [
        "import torch\n",
        "import torch.nn as nn\n",
        "import torch.optim as optim\n",
        "from torchvision import datasets\n",
        "from torchvision.transforms import ToTensor\n",
        "\n",
        "device = 'cuda' if torch.cuda.is_available() else 'cpu'\n",
        "print(\"Device: \", device)\n",
        "\n",
        "from tqdm import tqdm"
      ]
    },
    {
      "cell_type": "code",
      "execution_count": null,
      "metadata": {
        "id": "7BoEvflSsHMK"
      },
      "outputs": [],
      "source": [
        "import wandb, os\n",
        "os.environ['WANDB_API_KEY'] = \"\"#your key here\n",
        "wandb.login()"
      ]
    },
    {
      "cell_type": "markdown",
      "metadata": {
        "id": "STaDx_PhsY5S"
      },
      "source": [
        "## Helper functions and Model"
      ]
    },
    {
      "cell_type": "code",
      "execution_count": null,
      "metadata": {
        "colab": {
          "base_uri": "https://localhost:8080/"
        },
        "id": "fRjtOHvzq8D0",
        "outputId": "21f2b922-b168-49b2-a95b-96b6544b119c"
      },
      "outputs": [
        {
          "name": "stdout",
          "output_type": "stream",
          "text": [
            "Downloading https://www.cs.toronto.edu/~kriz/cifar-10-python.tar.gz to data/cifar-10-python.tar.gz\n"
          ]
        },
        {
          "name": "stderr",
          "output_type": "stream",
          "text": [
            "100%|██████████| 170498071/170498071 [00:06<00:00, 25797340.20it/s]\n"
          ]
        },
        {
          "name": "stdout",
          "output_type": "stream",
          "text": [
            "Extracting data/cifar-10-python.tar.gz to data\n",
            "Files already downloaded and verified\n"
          ]
        }
      ],
      "source": [
        "data_train = datasets.CIFAR10(\n",
        "    root = 'data',\n",
        "    train = True,\n",
        "    transform = ToTensor(),\n",
        "    download = True,\n",
        ")\n",
        "data_test = datasets.CIFAR10(\n",
        "    root = 'data',\n",
        "    train = False,\n",
        "    download = True,\n",
        "    transform = ToTensor()\n",
        ")"
      ]
    },
    {
      "cell_type": "code",
      "execution_count": null,
      "metadata": {
        "id": "thxzbhQ-rAzL"
      },
      "outputs": [],
      "source": [
        "def build_data(batch_size, data_train, data_test):\n",
        "    train_loader = torch.utils.data.DataLoader(data_train, batch_size=batch_size, shuffle=True)\n",
        "    test_loader = torch.utils.data.DataLoader(data_test, batch_size=batch_size, shuffle=False)\n",
        "    return train_loader, test_loader"
      ]
    },
    {
      "cell_type": "code",
      "execution_count": null,
      "metadata": {
        "colab": {
          "base_uri": "https://localhost:8080/"
        },
        "id": "JD8Q9XcbtALD",
        "outputId": "ae305d01-360d-4873-da34-06faa3f07528"
      },
      "outputs": [
        {
          "name": "stdout",
          "output_type": "stream",
          "text": [
            "Network(\n",
            "  (CNN): Sequential(\n",
            "    (0): Conv2d(3, 64, kernel_size=(3, 3), stride=(1, 1), padding=(2, 2))\n",
            "    (1): BatchNorm2d(64, eps=1e-05, momentum=0.1, affine=True, track_running_stats=True)\n",
            "    (2): ReLU()\n",
            "    (3): AvgPool2d(kernel_size=9, stride=9, padding=0)\n",
            "    (4): Flatten(start_dim=1, end_dim=-1)\n",
            "  )\n",
            "  (classification): Linear(in_features=576, out_features=10, bias=True)\n",
            ")\n"
          ]
        }
      ],
      "source": [
        "class Network(nn.Module):\n",
        "\n",
        "  def __init__(self):\n",
        "\n",
        "    super(Network, self).__init__()\n",
        "\n",
        "    self.CNN = nn.Sequential(\n",
        "            nn.Conv2d(in_channels=3, out_channels=64, kernel_size=3, stride=1, padding=2),\n",
        "            nn.BatchNorm2d(64),\n",
        "            nn.ReLU(),\n",
        "\n",
        "            nn.AvgPool2d(kernel_size=9),\n",
        "            nn.Flatten()\n",
        "    )\n",
        "\n",
        "    self.classification = nn.Linear(576, 10)\n",
        "  def forward(self, x):\n",
        "\n",
        "    x_cnn = self.CNN(x)\n",
        "    res = self.classification(x_cnn)\n",
        "\n",
        "    return res\n",
        "\n",
        "model = Network().to(device)\n",
        "print(model)"
      ]
    },
    {
      "cell_type": "code",
      "execution_count": null,
      "metadata": {
        "id": "5Pg2TkSyEXXp"
      },
      "outputs": [],
      "source": [
        "train_loader, test_loader = build_data(64, data_train, data_test)\n",
        "\n",
        "for x, y in train_loader:\n",
        "  break\n",
        "model(x.to(device)).shape"
      ]
    },
    {
      "cell_type": "code",
      "execution_count": null,
      "metadata": {
        "id": "APS6OULkPbMJ"
      },
      "outputs": [],
      "source": [
        "def get_optim(optimizer, learning_rate, model):\n",
        "  if optimizer=='sgd':\n",
        "    return optim.SGD(model.parameters(), lr=learning_rate)\n",
        "  else:\n",
        "    return optim.Adam(model.parameters(), lr=learning_rate)"
      ]
    },
    {
      "cell_type": "code",
      "execution_count": null,
      "metadata": {
        "id": "WWLpSANVs1EH"
      },
      "outputs": [],
      "source": [
        "def train_epoch(model, loader, optimizer, criterion, scaler):\n",
        "    num_correct = 0\n",
        "    total_loss = 0\n",
        "\n",
        "    for i, (x, y) in enumerate(loader):\n",
        "          optimizer.zero_grad()\n",
        "\n",
        "          x = x.cuda()\n",
        "          y = y.cuda()\n",
        "\n",
        "          with torch.cuda.amp.autocast():\n",
        "              outputs = model(x)\n",
        "              loss = criterion(outputs, y)\n",
        "\n",
        "          total_loss += float(loss)\n",
        "\n",
        "          scaler.scale(loss).backward()\n",
        "          scaler.step(optimizer)\n",
        "          scaler.update()\n",
        "    ep_loss = float(total_loss / len(loader))\n",
        "\n",
        "    return model, ep_loss"
      ]
    },
    {
      "cell_type": "code",
      "execution_count": null,
      "metadata": {
        "id": "BMJlPL5CYPFM"
      },
      "outputs": [],
      "source": [
        "def train(model, finish= True):\n",
        "\n",
        "  # Dont worry about all this, you'll be very familiar with it after HW1\n",
        "\n",
        "  best_acc = 0\n",
        "\n",
        "  for epoch in range(run_config['epochs']):\n",
        "      batch_bar = tqdm(total=len(train_loader), dynamic_ncols=True, leave=False, position=0, desc='Train')\n",
        "\n",
        "      num_correct = 0\n",
        "      total_loss = 0\n",
        "\n",
        "      for i, (x, y) in enumerate(train_loader):\n",
        "          optimizer.zero_grad()\n",
        "\n",
        "          x = x.cuda()\n",
        "          y = y.cuda()\n",
        "\n",
        "          with torch.cuda.amp.autocast():\n",
        "              outputs = model(x)\n",
        "              loss = criterion(outputs, y)\n",
        "\n",
        "          num_correct += int((torch.argmax(outputs, axis=1) == y).sum())\n",
        "          total_loss += float(loss)\n",
        "\n",
        "          batch_bar.set_postfix(\n",
        "              acc=\"{:.04f}%\".format(100 * num_correct / ((i + 1) * run_config['batch_size'])),\n",
        "              loss=\"{:.04f}\".format(float(total_loss / (i + 1))),\n",
        "              num_correct=num_correct,\n",
        "              lr=\"{:.04f}\".format(float(optimizer.param_groups[0]['lr'])))\n",
        "\n",
        "          scaler.scale(loss).backward()\n",
        "          scaler.step(optimizer)\n",
        "          scaler.update()\n",
        "\n",
        "\n",
        "          batch_bar.update()\n",
        "      batch_bar.close()\n",
        "\n",
        "      train_loss = float(total_loss / len(train_loader))\n",
        "      train_acc = 100 * num_correct / (len(train_loader) * run_config['batch_size'])\n",
        "      lr = float(optimizer.param_groups[0]['lr'])\n",
        "\n",
        "      print(\"Epoch {}/{}: Train Acc {:.04f}%, Train Loss {:.04f}, Learning Rate {:.04f}\".format(\n",
        "          epoch + 1,\n",
        "          run_config['epochs'],\n",
        "          train_acc ,\n",
        "          train_loss,\n",
        "          lr\n",
        "          )\n",
        "      )\n",
        "\n",
        "      # What to log\n",
        "\n",
        "      metrics = {\n",
        "          \"train_loss\":train_loss,\n",
        "          \"train_acc\": train_acc,\n",
        "          'lr': lr\n",
        "      }\n",
        "\n",
        "      # Log to run\n",
        "      wandb.log(metrics)\n",
        "\n",
        "      # Updating the model version\n",
        "\n",
        "      if train_acc > best_acc:\n",
        "        best_acc = train_acc\n",
        "\n",
        "        # Saving the model and optimizer states\n",
        "\n",
        "        torch.save({\n",
        "              'model_state_dict': model.state_dict(),\n",
        "              'optimizer_state_dict': optimizer.state_dict()\n",
        "              }, \"Model\")\n",
        "\n",
        "        # Creating Artifact\n",
        "\n",
        "        model_artifact = wandb.Artifact(run_config['model'], type='model')\n",
        "\n",
        "        # Adding model file to Artifact\n",
        "\n",
        "        model_artifact.add_file(\"Model\")\n",
        "\n",
        "        # Saving Artifact to WandB\n",
        "\n",
        "        run.log_artifact(model_artifact)\n",
        "  if finish:\n",
        "    wandb.finish()"
      ]
    },
    {
      "cell_type": "markdown",
      "metadata": {
        "id": "8IoBEQ9FYTcT"
      },
      "source": [
        "## Simple Usage"
      ]
    },
    {
      "cell_type": "markdown",
      "metadata": {
        "id": "bBdRpZygU8Xk"
      },
      "source": [
        "You can run the training function and log the performance metrics of your choice into the WandB GUI. This simple method will allow you to monitor trends in a specefic run configuration as well as comparing different runs"
      ]
    },
    {
      "cell_type": "code",
      "execution_count": null,
      "metadata": {
        "id": "pCP4X9rJYoiT"
      },
      "outputs": [],
      "source": [
        "run_config = {\n",
        "    'model': '1-2dcnn',\n",
        "    'optimizer':'sgd',\n",
        "    'lr': 2e-3,\n",
        "    'batch_size':64,\n",
        "    'epochs': 5\n",
        "}\n",
        "\n",
        "train_loader, test_loader = build_data(run_config['batch_size'], data_train, data_test)\n",
        "\n",
        "optimizer = get_optim(run_config['optimizer'], run_config['lr'], model)\n",
        "\n",
        "criterion = nn.CrossEntropyLoss()\n",
        "\n",
        "scaler = torch.cuda.amp.GradScaler()"
      ]
    },
    {
      "cell_type": "code",
      "execution_count": null,
      "metadata": {
        "id": "90SpRavzYsWD"
      },
      "outputs": [],
      "source": [
        "run = wandb.init(\n",
        "    project=\"wandb-quickstart\",\n",
        "    job_type=\"model-training\",\n",
        "    name=run_config['model'],\n",
        "    config=run_config\n",
        "    )"
      ]
    },
    {
      "cell_type": "code",
      "execution_count": null,
      "metadata": {
        "id": "Yze2NvQAYwQc"
      },
      "outputs": [],
      "source": [
        "train(model)"
      ]
    },
    {
      "cell_type": "markdown",
      "metadata": {
        "id": "i9Iswf4vCE5v"
      },
      "source": [
        "## Resume a previous run"
      ]
    },
    {
      "cell_type": "code",
      "execution_count": null,
      "metadata": {
        "id": "A8HCCvMx-qL6"
      },
      "outputs": [],
      "source": [
        "RESUME_LOGGING = False ### Change to true to test the code for resuming an existing run"
      ]
    },
    {
      "cell_type": "code",
      "execution_count": null,
      "metadata": {
        "id": "uPm3IsTvB13U"
      },
      "outputs": [],
      "source": [
        "if RESUME_LOGGING:\n",
        "  run_id = NotImplemented ### Replace with run id string\n",
        "  run = wandb.init(\n",
        "      id     = run_id, ### Insert specific run id here if you want to resume a previous run\n",
        "      resume = \"must\", ### You need this to resume previous runs, but comment out reinit = True when using this\n",
        "      project = \"wandb-quickstart\", ### Project should be created in your wandb account\n",
        "  )\n"
      ]
    },
    {
      "cell_type": "code",
      "execution_count": null,
      "metadata": {
        "id": "WT49FQAS-qL7"
      },
      "outputs": [],
      "source": [
        "### Test code to try appending metrics to previously logged metrics in the run\n",
        "### Uncomment to try out\n",
        "\n",
        "# test_new_metrics = {\n",
        "#       \"train_loss\":1.5,\n",
        "#       \"train_acc\": 40,\n",
        "#       'lr': 0.001\n",
        "#   }\n",
        "\n",
        "# wandb.log(test_new_metrics)"
      ]
    },
    {
      "cell_type": "markdown",
      "metadata": {
        "id": "KrHFe6BKkT9O"
      },
      "source": [
        "## HyperParameter Sweeps\n"
      ]
    },
    {
      "cell_type": "markdown",
      "metadata": {
        "id": "j9pxaI3xVA6h"
      },
      "source": [
        "[Sweeps](https://docs.wandb.ai/guides/sweeps) are a way of automating hyperparameter tuning in Deep Learning Models. You set up the values that you want your sweep to try and then check the affect of changing each parameter on each value on the model."
      ]
    },
    {
      "cell_type": "code",
      "execution_count": null,
      "metadata": {
        "id": "dfCIa76lkXv0"
      },
      "outputs": [],
      "source": [
        "# Initialize the sweep and set the method (grid, random or bayes\"ian\")\n",
        "\n",
        "sweep_config = {\n",
        "    'method': 'random'\n",
        "    }"
      ]
    },
    {
      "cell_type": "code",
      "execution_count": null,
      "metadata": {
        "id": "5A3bEWfQkbMw"
      },
      "outputs": [],
      "source": [
        "# What is the objective of the sweep (minimize loss, maximize accuracy)\n",
        "\n",
        "metric = {\n",
        "    'name':'loss',\n",
        "    'goal':'minimize'\n",
        "}\n",
        "sweep_config['metric'] = metric"
      ]
    },
    {
      "cell_type": "code",
      "execution_count": null,
      "metadata": {
        "id": "oXHd5ccNkenT"
      },
      "outputs": [],
      "source": [
        "# Hyperparameters to work with\n",
        "\n",
        "parameters_dict = {\n",
        "    'optimizer':{\n",
        "        'values': ['sgd', 'adam']\n",
        "    },\n",
        "    'learning_rate':{\n",
        "        'distribution':'uniform',\n",
        "        'min':2e-4,\n",
        "        'max':1e-1\n",
        "    },\n",
        "    'batch_size': {\n",
        "        'distribution': 'q_log_uniform_values',\n",
        "        'q':4,\n",
        "        'min': 16,\n",
        "        'max': 128\n",
        "    },\n",
        "    'epochs':{\n",
        "        'value': 5\n",
        "    }\n",
        "}\n",
        "sweep_config['parameters'] = parameters_dict"
      ]
    },
    {
      "cell_type": "code",
      "execution_count": null,
      "metadata": {
        "colab": {
          "base_uri": "https://localhost:8080/"
        },
        "id": "vbVvbWECkg3C",
        "outputId": "8ee86a17-b349-4a85-fef1-ba1f78afbac2"
      },
      "outputs": [
        {
          "name": "stdout",
          "output_type": "stream",
          "text": [
            "Create sweep with ID: krmj5sop\n",
            "Sweep URL: https://wandb.ai/11785-sg/CIFAR-Sweep2/sweeps/krmj5sop\n"
          ]
        }
      ],
      "source": [
        "# Initalizing the sweep\n",
        "\n",
        "sweep_id = wandb.sweep(sweep_config, project=\"CIFAR-Sweep2\")"
      ]
    },
    {
      "cell_type": "code",
      "execution_count": null,
      "metadata": {
        "id": "ee2J69kxs2pL"
      },
      "outputs": [],
      "source": [
        "def train_sweep(config = None):\n",
        "    with wandb.init(config=config) as run:\n",
        "        run.name=f\"Jeel_{wandb.config.learning_rate}_{wandb.config.batch_size}_{wandb.config.optimizer}\"\n",
        "        config = wandb.config\n",
        "\n",
        "        train_loader, test_loader = build_data(config.batch_size, data_train, data_test)\n",
        "\n",
        "        model = Network().to(device)\n",
        "\n",
        "        optimizer = get_optim(config.optimizer, config.learning_rate, model)\n",
        "\n",
        "        criterion = nn.CrossEntropyLoss()\n",
        "\n",
        "        scaler = torch.cuda.amp.GradScaler()\n",
        "\n",
        "        for epoch in range(config.epochs):\n",
        "\n",
        "            model, loss = train_epoch(model, train_loader, optimizer, criterion, scaler)\n",
        "\n",
        "            wandb.log({'loss': loss})"
      ]
    },
    {
      "cell_type": "code",
      "execution_count": null,
      "metadata": {
        "colab": {
          "base_uri": "https://localhost:8080/",
          "height": 945,
          "referenced_widgets": [
            "fd710a94e17b419c8a01726b0d015240",
            "92b0f0a7d3e940d48f07be195874f9ac",
            "cf58fe04ca2a40c39518a684604ae091",
            "03c4ff35576f40ceaddabaeb67be8f8f",
            "14869135984445f39f5f9defe835bb0c",
            "b17b84c4e29641478c2cbb2d606a5bbb",
            "72919d42b60a422c8a1e4ed8a1a3d3cd",
            "e74859c70b5d4dc6b0c54e51432a7e06",
            "3662ad5556bd40c9bf0a4415fe7514bd",
            "5714dad0feba46cd8eecd7e97e55723a",
            "403e68e14bf145a890d7e808a9ccfd5d",
            "240e50f878b7461491da155139e42332",
            "de4f1f4cc3ce4b9790d23bdb9eb31851",
            "a69ff2e5b77746edb2a2e4d1e59c81aa",
            "afbaecfa58d24f408ced8236650423d9",
            "7fee40642f884b5ea5db24b576ef349f"
          ]
        },
        "id": "YOHXfLi5kmNg",
        "outputId": "9bac8486-7e0d-41a0-cd29-7a7dbce7ae9d"
      },
      "outputs": [
        {
          "name": "stderr",
          "output_type": "stream",
          "text": [
            "\u001b[34m\u001b[1mwandb\u001b[0m: Agent Starting Run: ux2bk5vp with config:\n",
            "\u001b[34m\u001b[1mwandb\u001b[0m: \tbatch_size: 24\n",
            "\u001b[34m\u001b[1mwandb\u001b[0m: \tepochs: 5\n",
            "\u001b[34m\u001b[1mwandb\u001b[0m: \tlearning_rate: 0.06191135339330024\n",
            "\u001b[34m\u001b[1mwandb\u001b[0m: \toptimizer: adam\n"
          ]
        },
        {
          "data": {
            "text/html": [
              "Tracking run with wandb version 0.15.8"
            ],
            "text/plain": [
              "<IPython.core.display.HTML object>"
            ]
          },
          "metadata": {},
          "output_type": "display_data"
        },
        {
          "data": {
            "text/html": [
              "Run data is saved locally in <code>/content/wandb/run-20230816_190826-ux2bk5vp</code>"
            ],
            "text/plain": [
              "<IPython.core.display.HTML object>"
            ]
          },
          "metadata": {},
          "output_type": "display_data"
        },
        {
          "data": {
            "text/html": [
              "Syncing run <strong><a href='https://wandb.ai/11785-sg/CIFAR-Sweep2/runs/ux2bk5vp' target=\"_blank\">eager-sweep-3</a></strong> to <a href='https://wandb.ai/11785-sg/CIFAR-Sweep2' target=\"_blank\">Weights & Biases</a> (<a href='https://wandb.me/run' target=\"_blank\">docs</a>)<br/>Sweep page: <a href='https://wandb.ai/11785-sg/CIFAR-Sweep2/sweeps/krmj5sop' target=\"_blank\">https://wandb.ai/11785-sg/CIFAR-Sweep2/sweeps/krmj5sop</a>"
            ],
            "text/plain": [
              "<IPython.core.display.HTML object>"
            ]
          },
          "metadata": {},
          "output_type": "display_data"
        },
        {
          "data": {
            "text/html": [
              " View project at <a href='https://wandb.ai/11785-sg/CIFAR-Sweep2' target=\"_blank\">https://wandb.ai/11785-sg/CIFAR-Sweep2</a>"
            ],
            "text/plain": [
              "<IPython.core.display.HTML object>"
            ]
          },
          "metadata": {},
          "output_type": "display_data"
        },
        {
          "data": {
            "text/html": [
              " View sweep at <a href='https://wandb.ai/11785-sg/CIFAR-Sweep2/sweeps/krmj5sop' target=\"_blank\">https://wandb.ai/11785-sg/CIFAR-Sweep2/sweeps/krmj5sop</a>"
            ],
            "text/plain": [
              "<IPython.core.display.HTML object>"
            ]
          },
          "metadata": {},
          "output_type": "display_data"
        },
        {
          "data": {
            "text/html": [
              " View run at <a href='https://wandb.ai/11785-sg/CIFAR-Sweep2/runs/ux2bk5vp' target=\"_blank\">https://wandb.ai/11785-sg/CIFAR-Sweep2/runs/ux2bk5vp</a>"
            ],
            "text/plain": [
              "<IPython.core.display.HTML object>"
            ]
          },
          "metadata": {},
          "output_type": "display_data"
        },
        {
          "data": {
            "text/html": [
              "Waiting for W&B process to finish... <strong style=\"color:green\">(success).</strong>"
            ],
            "text/plain": [
              "<IPython.core.display.HTML object>"
            ]
          },
          "metadata": {},
          "output_type": "display_data"
        },
        {
          "data": {
            "application/vnd.jupyter.widget-view+json": {
              "model_id": "fd710a94e17b419c8a01726b0d015240",
              "version_major": 2,
              "version_minor": 0
            },
            "text/plain": [
              "VBox(children=(Label(value='0.001 MB of 0.010 MB uploaded (0.000 MB deduped)\\r'), FloatProgress(value=0.116164…"
            ]
          },
          "metadata": {},
          "output_type": "display_data"
        },
        {
          "data": {
            "text/html": [
              "<style>\n",
              "    table.wandb td:nth-child(1) { padding: 0 10px; text-align: left ; width: auto;} td:nth-child(2) {text-align: left ; width: 100%}\n",
              "    .wandb-row { display: flex; flex-direction: row; flex-wrap: wrap; justify-content: flex-start; width: 100% }\n",
              "    .wandb-col { display: flex; flex-direction: column; flex-basis: 100%; flex: 1; padding: 10px; }\n",
              "    </style>\n",
              "<div class=\"wandb-row\"><div class=\"wandb-col\"><h3>Run history:</h3><br/><table class=\"wandb\"><tr><td>loss</td><td>█▄▂▁▁</td></tr></table><br/></div><div class=\"wandb-col\"><h3>Run summary:</h3><br/><table class=\"wandb\"><tr><td>loss</td><td>1.60495</td></tr></table><br/></div></div>"
            ],
            "text/plain": [
              "<IPython.core.display.HTML object>"
            ]
          },
          "metadata": {},
          "output_type": "display_data"
        },
        {
          "data": {
            "text/html": [
              " View run <strong style=\"color:#cdcd00\">eager-sweep-3</strong> at: <a href='https://wandb.ai/11785-sg/CIFAR-Sweep2/runs/ux2bk5vp' target=\"_blank\">https://wandb.ai/11785-sg/CIFAR-Sweep2/runs/ux2bk5vp</a><br/>Synced 4 W&B file(s), 0 media file(s), 0 artifact file(s) and 0 other file(s)"
            ],
            "text/plain": [
              "<IPython.core.display.HTML object>"
            ]
          },
          "metadata": {},
          "output_type": "display_data"
        },
        {
          "data": {
            "text/html": [
              "Find logs at: <code>./wandb/run-20230816_190826-ux2bk5vp/logs</code>"
            ],
            "text/plain": [
              "<IPython.core.display.HTML object>"
            ]
          },
          "metadata": {},
          "output_type": "display_data"
        },
        {
          "name": "stderr",
          "output_type": "stream",
          "text": [
            "\u001b[34m\u001b[1mwandb\u001b[0m: Agent Starting Run: m0gbidzx with config:\n",
            "\u001b[34m\u001b[1mwandb\u001b[0m: \tbatch_size: 36\n",
            "\u001b[34m\u001b[1mwandb\u001b[0m: \tepochs: 5\n",
            "\u001b[34m\u001b[1mwandb\u001b[0m: \tlearning_rate: 0.0931976200172392\n",
            "\u001b[34m\u001b[1mwandb\u001b[0m: \toptimizer: adam\n"
          ]
        },
        {
          "data": {
            "text/html": [
              "Tracking run with wandb version 0.15.8"
            ],
            "text/plain": [
              "<IPython.core.display.HTML object>"
            ]
          },
          "metadata": {},
          "output_type": "display_data"
        },
        {
          "data": {
            "text/html": [
              "Run data is saved locally in <code>/content/wandb/run-20230816_190938-m0gbidzx</code>"
            ],
            "text/plain": [
              "<IPython.core.display.HTML object>"
            ]
          },
          "metadata": {},
          "output_type": "display_data"
        },
        {
          "data": {
            "text/html": [
              "Syncing run <strong><a href='https://wandb.ai/11785-sg/CIFAR-Sweep2/runs/m0gbidzx' target=\"_blank\">bright-sweep-4</a></strong> to <a href='https://wandb.ai/11785-sg/CIFAR-Sweep2' target=\"_blank\">Weights & Biases</a> (<a href='https://wandb.me/run' target=\"_blank\">docs</a>)<br/>Sweep page: <a href='https://wandb.ai/11785-sg/CIFAR-Sweep2/sweeps/krmj5sop' target=\"_blank\">https://wandb.ai/11785-sg/CIFAR-Sweep2/sweeps/krmj5sop</a>"
            ],
            "text/plain": [
              "<IPython.core.display.HTML object>"
            ]
          },
          "metadata": {},
          "output_type": "display_data"
        },
        {
          "data": {
            "text/html": [
              " View project at <a href='https://wandb.ai/11785-sg/CIFAR-Sweep2' target=\"_blank\">https://wandb.ai/11785-sg/CIFAR-Sweep2</a>"
            ],
            "text/plain": [
              "<IPython.core.display.HTML object>"
            ]
          },
          "metadata": {},
          "output_type": "display_data"
        },
        {
          "data": {
            "text/html": [
              " View sweep at <a href='https://wandb.ai/11785-sg/CIFAR-Sweep2/sweeps/krmj5sop' target=\"_blank\">https://wandb.ai/11785-sg/CIFAR-Sweep2/sweeps/krmj5sop</a>"
            ],
            "text/plain": [
              "<IPython.core.display.HTML object>"
            ]
          },
          "metadata": {},
          "output_type": "display_data"
        },
        {
          "data": {
            "text/html": [
              " View run at <a href='https://wandb.ai/11785-sg/CIFAR-Sweep2/runs/m0gbidzx' target=\"_blank\">https://wandb.ai/11785-sg/CIFAR-Sweep2/runs/m0gbidzx</a>"
            ],
            "text/plain": [
              "<IPython.core.display.HTML object>"
            ]
          },
          "metadata": {},
          "output_type": "display_data"
        },
        {
          "data": {
            "text/html": [
              "Waiting for W&B process to finish... <strong style=\"color:green\">(success).</strong>"
            ],
            "text/plain": [
              "<IPython.core.display.HTML object>"
            ]
          },
          "metadata": {},
          "output_type": "display_data"
        },
        {
          "data": {
            "application/vnd.jupyter.widget-view+json": {
              "model_id": "3662ad5556bd40c9bf0a4415fe7514bd",
              "version_major": 2,
              "version_minor": 0
            },
            "text/plain": [
              "VBox(children=(Label(value='0.001 MB of 0.010 MB uploaded (0.000 MB deduped)\\r'), FloatProgress(value=0.116076…"
            ]
          },
          "metadata": {},
          "output_type": "display_data"
        },
        {
          "data": {
            "text/html": [
              "<style>\n",
              "    table.wandb td:nth-child(1) { padding: 0 10px; text-align: left ; width: auto;} td:nth-child(2) {text-align: left ; width: 100%}\n",
              "    .wandb-row { display: flex; flex-direction: row; flex-wrap: wrap; justify-content: flex-start; width: 100% }\n",
              "    .wandb-col { display: flex; flex-direction: column; flex-basis: 100%; flex: 1; padding: 10px; }\n",
              "    </style>\n",
              "<div class=\"wandb-row\"><div class=\"wandb-col\"><h3>Run history:</h3><br/><table class=\"wandb\"><tr><td>loss</td><td>█▁▁▁▁</td></tr></table><br/></div><div class=\"wandb-col\"><h3>Run summary:</h3><br/><table class=\"wandb\"><tr><td>loss</td><td>1.83514</td></tr></table><br/></div></div>"
            ],
            "text/plain": [
              "<IPython.core.display.HTML object>"
            ]
          },
          "metadata": {},
          "output_type": "display_data"
        },
        {
          "data": {
            "text/html": [
              " View run <strong style=\"color:#cdcd00\">bright-sweep-4</strong> at: <a href='https://wandb.ai/11785-sg/CIFAR-Sweep2/runs/m0gbidzx' target=\"_blank\">https://wandb.ai/11785-sg/CIFAR-Sweep2/runs/m0gbidzx</a><br/>Synced 4 W&B file(s), 0 media file(s), 0 artifact file(s) and 0 other file(s)"
            ],
            "text/plain": [
              "<IPython.core.display.HTML object>"
            ]
          },
          "metadata": {},
          "output_type": "display_data"
        },
        {
          "data": {
            "text/html": [
              "Find logs at: <code>./wandb/run-20230816_190938-m0gbidzx/logs</code>"
            ],
            "text/plain": [
              "<IPython.core.display.HTML object>"
            ]
          },
          "metadata": {},
          "output_type": "display_data"
        }
      ],
      "source": [
        "# Running the sweep\n",
        "\n",
        "wandb.agent(sweep_id, train_sweep, count=2)"
      ]
    },
    {
      "cell_type": "markdown",
      "metadata": {
        "id": "Q5189Q0WkYh9"
      },
      "source": [
        "## Artifact and Model Versioning"
      ]
    },
    {
      "cell_type": "markdown",
      "metadata": {
        "id": "VwtzDk8gVG5r"
      },
      "source": [
        "Artifacts are a method of managing versions for data and models. You can use the artifacts to keep and compare versions of your model while training making it easier to share data and models between team members."
      ]
    },
    {
      "cell_type": "code",
      "execution_count": null,
      "metadata": {
        "id": "8jefWW9Qux5c"
      },
      "outputs": [],
      "source": [
        "run_config = {\n",
        "    'model': '1-2dcnn',\n",
        "    'optimizer':'adam',\n",
        "    'lr': 5e-3,\n",
        "    'batch_size':20,\n",
        "    'epochs': 5\n",
        "}\n",
        "\n",
        "train_loader, test_loader = build_data(run_config['batch_size'], data_train, data_test)\n",
        "optimizer = get_optim(run_config['optimizer'], run_config['lr'], model)\n",
        "criterion = nn.CrossEntropyLoss()\n",
        "scaler = torch.cuda.amp.GradScaler()"
      ]
    },
    {
      "cell_type": "code",
      "execution_count": null,
      "metadata": {
        "colab": {
          "base_uri": "https://localhost:8080/",
          "height": 174
        },
        "id": "hDSSl7WaBQwi",
        "outputId": "de8fb875-a7c7-4559-bc86-0b53cbeac12e"
      },
      "outputs": [
        {
          "data": {
            "text/html": [
              "Changes to your `wandb` environment variables will be ignored because your `wandb` session has already started. For more information on how to modify your settings with `wandb.init()` arguments, please refer to <a href='https://wandb.me/wandb-init' target=\"_blank\">the W&B docs</a>."
            ],
            "text/plain": [
              "<IPython.core.display.HTML object>"
            ]
          },
          "metadata": {},
          "output_type": "display_data"
        },
        {
          "name": "stderr",
          "output_type": "stream",
          "text": [
            "\u001b[34m\u001b[1mwandb\u001b[0m: \u001b[33mWARNING\u001b[0m Ignored wandb.init() arg project when running a sweep.\n"
          ]
        },
        {
          "data": {
            "text/html": [
              "Tracking run with wandb version 0.15.8"
            ],
            "text/plain": [
              "<IPython.core.display.HTML object>"
            ]
          },
          "metadata": {},
          "output_type": "display_data"
        },
        {
          "data": {
            "text/html": [
              "Run data is saved locally in <code>/content/wandb/run-20230816_191611-m0gbidzx</code>"
            ],
            "text/plain": [
              "<IPython.core.display.HTML object>"
            ]
          },
          "metadata": {},
          "output_type": "display_data"
        },
        {
          "data": {
            "text/html": [
              "Syncing run <strong><a href='https://wandb.ai/11785-sg/CIFAR-Sweep2/runs/m0gbidzx' target=\"_blank\">1-2dcnn</a></strong> to <a href='https://wandb.ai/11785-sg/CIFAR-Sweep2' target=\"_blank\">Weights & Biases</a> (<a href='https://wandb.me/run' target=\"_blank\">docs</a>)<br/>Sweep page: <a href='https://wandb.ai/11785-sg/CIFAR-Sweep2/sweeps/krmj5sop' target=\"_blank\">https://wandb.ai/11785-sg/CIFAR-Sweep2/sweeps/krmj5sop</a>"
            ],
            "text/plain": [
              "<IPython.core.display.HTML object>"
            ]
          },
          "metadata": {},
          "output_type": "display_data"
        },
        {
          "data": {
            "text/html": [
              " View project at <a href='https://wandb.ai/11785-sg/CIFAR-Sweep2' target=\"_blank\">https://wandb.ai/11785-sg/CIFAR-Sweep2</a>"
            ],
            "text/plain": [
              "<IPython.core.display.HTML object>"
            ]
          },
          "metadata": {},
          "output_type": "display_data"
        },
        {
          "data": {
            "text/html": [
              " View sweep at <a href='https://wandb.ai/11785-sg/CIFAR-Sweep2/sweeps/krmj5sop' target=\"_blank\">https://wandb.ai/11785-sg/CIFAR-Sweep2/sweeps/krmj5sop</a>"
            ],
            "text/plain": [
              "<IPython.core.display.HTML object>"
            ]
          },
          "metadata": {},
          "output_type": "display_data"
        },
        {
          "data": {
            "text/html": [
              " View run at <a href='https://wandb.ai/11785-sg/CIFAR-Sweep2/runs/m0gbidzx' target=\"_blank\">https://wandb.ai/11785-sg/CIFAR-Sweep2/runs/m0gbidzx</a>"
            ],
            "text/plain": [
              "<IPython.core.display.HTML object>"
            ]
          },
          "metadata": {},
          "output_type": "display_data"
        }
      ],
      "source": [
        "run = wandb.init(\n",
        "    project=\"wandb-quickstart\",\n",
        "    job_type=\"model-training\",\n",
        "    name=run_config['model'],\n",
        "    config=run_config\n",
        "    )"
      ]
    },
    {
      "cell_type": "code",
      "execution_count": null,
      "metadata": {
        "colab": {
          "base_uri": "https://localhost:8080/"
        },
        "id": "t9FjIkHGZdw6",
        "outputId": "1012da7e-7692-4a7c-922f-d7e5c1b51a90"
      },
      "outputs": [
        {
          "name": "stderr",
          "output_type": "stream",
          "text": []
        },
        {
          "name": "stdout",
          "output_type": "stream",
          "text": [
            "Epoch 1/5: Train Acc 44.6620%, Train Loss 1.5556, Learning Rate 0.0050\n"
          ]
        },
        {
          "name": "stderr",
          "output_type": "stream",
          "text": []
        },
        {
          "name": "stdout",
          "output_type": "stream",
          "text": [
            "Epoch 2/5: Train Acc 53.7480%, Train Loss 1.3205, Learning Rate 0.0050\n"
          ]
        },
        {
          "name": "stderr",
          "output_type": "stream",
          "text": []
        },
        {
          "name": "stdout",
          "output_type": "stream",
          "text": [
            "Epoch 3/5: Train Acc 57.1420%, Train Loss 1.2293, Learning Rate 0.0050\n"
          ]
        },
        {
          "name": "stderr",
          "output_type": "stream",
          "text": []
        },
        {
          "name": "stdout",
          "output_type": "stream",
          "text": [
            "Epoch 4/5: Train Acc 58.6000%, Train Loss 1.1885, Learning Rate 0.0050\n"
          ]
        },
        {
          "name": "stderr",
          "output_type": "stream",
          "text": []
        },
        {
          "name": "stdout",
          "output_type": "stream",
          "text": [
            "Epoch 5/5: Train Acc 59.8800%, Train Loss 1.1565, Learning Rate 0.0050\n"
          ]
        }
      ],
      "source": [
        "train(model,finish= False) #run should not finish for using artifact"
      ]
    },
    {
      "cell_type": "code",
      "execution_count": null,
      "metadata": {
        "colab": {
          "base_uri": "https://localhost:8080/"
        },
        "id": "29H1tmQjGKsp",
        "outputId": "d53d318f-f2a8-4098-a9b1-0584aa5fc40f"
      },
      "outputs": [
        {
          "name": "stderr",
          "output_type": "stream",
          "text": [
            "\u001b[34m\u001b[1mwandb\u001b[0m:   1 of 1 files downloaded.  \n"
          ]
        }
      ],
      "source": [
        "## Retreiving the model\n",
        "\n",
        "# Getting the latest version of the artifact\n",
        "artifact = run.use_artifact('{}:latest'.format(run_config['model']))\n",
        "# Downloading the artifact\n",
        "artifact_dir = artifact.download()\n",
        "# Loading the model\n",
        "model_dict = torch.load(os.path.join(artifact_dir, 'Model'))\n",
        "\n",
        "\n",
        "\n",
        "# Loading weights\n",
        "model.load_state_dict(model_dict['model_state_dict'])\n",
        "# Loading optimizer state\n",
        "optimizer.load_state_dict(model_dict['optimizer_state_dict'])"
      ]
    },
    {
      "cell_type": "code",
      "execution_count": null,
      "metadata": {
        "colab": {
          "base_uri": "https://localhost:8080/",
          "height": 248
        },
        "id": "2kmyvmCX_Bk_",
        "outputId": "6b32c33a-7270-4065-cc8c-29f54430e2b8"
      },
      "outputs": [
        {
          "data": {
            "text/html": [
              "Waiting for W&B process to finish... <strong style=\"color:green\">(success).</strong>"
            ],
            "text/plain": [
              "<IPython.core.display.HTML object>"
            ]
          },
          "metadata": {},
          "output_type": "display_data"
        },
        {
          "data": {
            "text/html": [
              "<style>\n",
              "    table.wandb td:nth-child(1) { padding: 0 10px; text-align: left ; width: auto;} td:nth-child(2) {text-align: left ; width: 100%}\n",
              "    .wandb-row { display: flex; flex-direction: row; flex-wrap: wrap; justify-content: flex-start; width: 100% }\n",
              "    .wandb-col { display: flex; flex-direction: column; flex-basis: 100%; flex: 1; padding: 10px; }\n",
              "    </style>\n",
              "<div class=\"wandb-row\"><div class=\"wandb-col\"><h3>Run history:</h3><br/><table class=\"wandb\"><tr><td>lr</td><td>▁▁▁▁▁</td></tr><tr><td>train_acc</td><td>▁▅▇▇█</td></tr><tr><td>train_loss</td><td>█▄▂▂▁</td></tr></table><br/></div><div class=\"wandb-col\"><h3>Run summary:</h3><br/><table class=\"wandb\"><tr><td>lr</td><td>0.005</td></tr><tr><td>train_acc</td><td>59.88</td></tr><tr><td>train_loss</td><td>1.15649</td></tr></table><br/></div></div>"
            ],
            "text/plain": [
              "<IPython.core.display.HTML object>"
            ]
          },
          "metadata": {},
          "output_type": "display_data"
        },
        {
          "data": {
            "text/html": [
              " View run <strong style=\"color:#cdcd00\">1-2dcnn</strong> at: <a href='https://wandb.ai/11785-sg/CIFAR-Sweep2/runs/m0gbidzx' target=\"_blank\">https://wandb.ai/11785-sg/CIFAR-Sweep2/runs/m0gbidzx</a><br/>Synced 5 W&B file(s), 0 media file(s), 5 artifact file(s) and 0 other file(s)"
            ],
            "text/plain": [
              "<IPython.core.display.HTML object>"
            ]
          },
          "metadata": {},
          "output_type": "display_data"
        },
        {
          "data": {
            "text/html": [
              "Find logs at: <code>./wandb/run-20230816_191611-m0gbidzx/logs</code>"
            ],
            "text/plain": [
              "<IPython.core.display.HTML object>"
            ]
          },
          "metadata": {},
          "output_type": "display_data"
        }
      ],
      "source": [
        "# Finishing runs\n",
        "wandb.finish()"
      ]
    },
    {
      "cell_type": "code",
      "execution_count": null,
      "metadata": {
        "id": "He9L5TepTbvy"
      },
      "outputs": [],
      "source": []
    }
  ],
  "metadata": {
    "accelerator": "GPU",
    "colab": {
      "provenance": []
    },
    "gpuClass": "standard",
    "kernelspec": {
      "display_name": "Python 3",
      "name": "python3"
    },
    "language_info": {
      "name": "python"
    },
    "widgets": {
      "application/vnd.jupyter.widget-state+json": {
        "03c4ff35576f40ceaddabaeb67be8f8f": {
          "model_module": "@jupyter-widgets/base",
          "model_module_version": "1.2.0",
          "model_name": "LayoutModel",
          "state": {
            "_model_module": "@jupyter-widgets/base",
            "_model_module_version": "1.2.0",
            "_model_name": "LayoutModel",
            "_view_count": null,
            "_view_module": "@jupyter-widgets/base",
            "_view_module_version": "1.2.0",
            "_view_name": "LayoutView",
            "align_content": null,
            "align_items": null,
            "align_self": null,
            "border": null,
            "bottom": null,
            "display": null,
            "flex": null,
            "flex_flow": null,
            "grid_area": null,
            "grid_auto_columns": null,
            "grid_auto_flow": null,
            "grid_auto_rows": null,
            "grid_column": null,
            "grid_gap": null,
            "grid_row": null,
            "grid_template_areas": null,
            "grid_template_columns": null,
            "grid_template_rows": null,
            "height": null,
            "justify_content": null,
            "justify_items": null,
            "left": null,
            "margin": null,
            "max_height": null,
            "max_width": null,
            "min_height": null,
            "min_width": null,
            "object_fit": null,
            "object_position": null,
            "order": null,
            "overflow": null,
            "overflow_x": null,
            "overflow_y": null,
            "padding": null,
            "right": null,
            "top": null,
            "visibility": null,
            "width": null
          }
        },
        "14869135984445f39f5f9defe835bb0c": {
          "model_module": "@jupyter-widgets/base",
          "model_module_version": "1.2.0",
          "model_name": "LayoutModel",
          "state": {
            "_model_module": "@jupyter-widgets/base",
            "_model_module_version": "1.2.0",
            "_model_name": "LayoutModel",
            "_view_count": null,
            "_view_module": "@jupyter-widgets/base",
            "_view_module_version": "1.2.0",
            "_view_name": "LayoutView",
            "align_content": null,
            "align_items": null,
            "align_self": null,
            "border": null,
            "bottom": null,
            "display": null,
            "flex": null,
            "flex_flow": null,
            "grid_area": null,
            "grid_auto_columns": null,
            "grid_auto_flow": null,
            "grid_auto_rows": null,
            "grid_column": null,
            "grid_gap": null,
            "grid_row": null,
            "grid_template_areas": null,
            "grid_template_columns": null,
            "grid_template_rows": null,
            "height": null,
            "justify_content": null,
            "justify_items": null,
            "left": null,
            "margin": null,
            "max_height": null,
            "max_width": null,
            "min_height": null,
            "min_width": null,
            "object_fit": null,
            "object_position": null,
            "order": null,
            "overflow": null,
            "overflow_x": null,
            "overflow_y": null,
            "padding": null,
            "right": null,
            "top": null,
            "visibility": null,
            "width": null
          }
        },
        "240e50f878b7461491da155139e42332": {
          "model_module": "@jupyter-widgets/base",
          "model_module_version": "1.2.0",
          "model_name": "LayoutModel",
          "state": {
            "_model_module": "@jupyter-widgets/base",
            "_model_module_version": "1.2.0",
            "_model_name": "LayoutModel",
            "_view_count": null,
            "_view_module": "@jupyter-widgets/base",
            "_view_module_version": "1.2.0",
            "_view_name": "LayoutView",
            "align_content": null,
            "align_items": null,
            "align_self": null,
            "border": null,
            "bottom": null,
            "display": null,
            "flex": null,
            "flex_flow": null,
            "grid_area": null,
            "grid_auto_columns": null,
            "grid_auto_flow": null,
            "grid_auto_rows": null,
            "grid_column": null,
            "grid_gap": null,
            "grid_row": null,
            "grid_template_areas": null,
            "grid_template_columns": null,
            "grid_template_rows": null,
            "height": null,
            "justify_content": null,
            "justify_items": null,
            "left": null,
            "margin": null,
            "max_height": null,
            "max_width": null,
            "min_height": null,
            "min_width": null,
            "object_fit": null,
            "object_position": null,
            "order": null,
            "overflow": null,
            "overflow_x": null,
            "overflow_y": null,
            "padding": null,
            "right": null,
            "top": null,
            "visibility": null,
            "width": null
          }
        },
        "3662ad5556bd40c9bf0a4415fe7514bd": {
          "model_module": "@jupyter-widgets/controls",
          "model_module_version": "1.5.0",
          "model_name": "VBoxModel",
          "state": {
            "_dom_classes": [],
            "_model_module": "@jupyter-widgets/controls",
            "_model_module_version": "1.5.0",
            "_model_name": "VBoxModel",
            "_view_count": null,
            "_view_module": "@jupyter-widgets/controls",
            "_view_module_version": "1.5.0",
            "_view_name": "VBoxView",
            "box_style": "",
            "children": [
              "IPY_MODEL_5714dad0feba46cd8eecd7e97e55723a",
              "IPY_MODEL_403e68e14bf145a890d7e808a9ccfd5d"
            ],
            "layout": "IPY_MODEL_240e50f878b7461491da155139e42332"
          }
        },
        "403e68e14bf145a890d7e808a9ccfd5d": {
          "model_module": "@jupyter-widgets/controls",
          "model_module_version": "1.5.0",
          "model_name": "FloatProgressModel",
          "state": {
            "_dom_classes": [],
            "_model_module": "@jupyter-widgets/controls",
            "_model_module_version": "1.5.0",
            "_model_name": "FloatProgressModel",
            "_view_count": null,
            "_view_module": "@jupyter-widgets/controls",
            "_view_module_version": "1.5.0",
            "_view_name": "ProgressView",
            "bar_style": "",
            "description": "",
            "description_tooltip": null,
            "layout": "IPY_MODEL_afbaecfa58d24f408ced8236650423d9",
            "max": 1,
            "min": 0,
            "orientation": "horizontal",
            "style": "IPY_MODEL_7fee40642f884b5ea5db24b576ef349f",
            "value": 0.11607672533122404
          }
        },
        "5714dad0feba46cd8eecd7e97e55723a": {
          "model_module": "@jupyter-widgets/controls",
          "model_module_version": "1.5.0",
          "model_name": "LabelModel",
          "state": {
            "_dom_classes": [],
            "_model_module": "@jupyter-widgets/controls",
            "_model_module_version": "1.5.0",
            "_model_name": "LabelModel",
            "_view_count": null,
            "_view_module": "@jupyter-widgets/controls",
            "_view_module_version": "1.5.0",
            "_view_name": "LabelView",
            "description": "",
            "description_tooltip": null,
            "layout": "IPY_MODEL_de4f1f4cc3ce4b9790d23bdb9eb31851",
            "placeholder": "​",
            "style": "IPY_MODEL_a69ff2e5b77746edb2a2e4d1e59c81aa",
            "value": "0.001 MB of 0.010 MB uploaded (0.000 MB deduped)\r"
          }
        },
        "72919d42b60a422c8a1e4ed8a1a3d3cd": {
          "model_module": "@jupyter-widgets/base",
          "model_module_version": "1.2.0",
          "model_name": "LayoutModel",
          "state": {
            "_model_module": "@jupyter-widgets/base",
            "_model_module_version": "1.2.0",
            "_model_name": "LayoutModel",
            "_view_count": null,
            "_view_module": "@jupyter-widgets/base",
            "_view_module_version": "1.2.0",
            "_view_name": "LayoutView",
            "align_content": null,
            "align_items": null,
            "align_self": null,
            "border": null,
            "bottom": null,
            "display": null,
            "flex": null,
            "flex_flow": null,
            "grid_area": null,
            "grid_auto_columns": null,
            "grid_auto_flow": null,
            "grid_auto_rows": null,
            "grid_column": null,
            "grid_gap": null,
            "grid_row": null,
            "grid_template_areas": null,
            "grid_template_columns": null,
            "grid_template_rows": null,
            "height": null,
            "justify_content": null,
            "justify_items": null,
            "left": null,
            "margin": null,
            "max_height": null,
            "max_width": null,
            "min_height": null,
            "min_width": null,
            "object_fit": null,
            "object_position": null,
            "order": null,
            "overflow": null,
            "overflow_x": null,
            "overflow_y": null,
            "padding": null,
            "right": null,
            "top": null,
            "visibility": null,
            "width": null
          }
        },
        "7fee40642f884b5ea5db24b576ef349f": {
          "model_module": "@jupyter-widgets/controls",
          "model_module_version": "1.5.0",
          "model_name": "ProgressStyleModel",
          "state": {
            "_model_module": "@jupyter-widgets/controls",
            "_model_module_version": "1.5.0",
            "_model_name": "ProgressStyleModel",
            "_view_count": null,
            "_view_module": "@jupyter-widgets/base",
            "_view_module_version": "1.2.0",
            "_view_name": "StyleView",
            "bar_color": null,
            "description_width": ""
          }
        },
        "92b0f0a7d3e940d48f07be195874f9ac": {
          "model_module": "@jupyter-widgets/controls",
          "model_module_version": "1.5.0",
          "model_name": "LabelModel",
          "state": {
            "_dom_classes": [],
            "_model_module": "@jupyter-widgets/controls",
            "_model_module_version": "1.5.0",
            "_model_name": "LabelModel",
            "_view_count": null,
            "_view_module": "@jupyter-widgets/controls",
            "_view_module_version": "1.5.0",
            "_view_name": "LabelView",
            "description": "",
            "description_tooltip": null,
            "layout": "IPY_MODEL_14869135984445f39f5f9defe835bb0c",
            "placeholder": "​",
            "style": "IPY_MODEL_b17b84c4e29641478c2cbb2d606a5bbb",
            "value": "0.001 MB of 0.010 MB uploaded (0.000 MB deduped)\r"
          }
        },
        "a69ff2e5b77746edb2a2e4d1e59c81aa": {
          "model_module": "@jupyter-widgets/controls",
          "model_module_version": "1.5.0",
          "model_name": "DescriptionStyleModel",
          "state": {
            "_model_module": "@jupyter-widgets/controls",
            "_model_module_version": "1.5.0",
            "_model_name": "DescriptionStyleModel",
            "_view_count": null,
            "_view_module": "@jupyter-widgets/base",
            "_view_module_version": "1.2.0",
            "_view_name": "StyleView",
            "description_width": ""
          }
        },
        "afbaecfa58d24f408ced8236650423d9": {
          "model_module": "@jupyter-widgets/base",
          "model_module_version": "1.2.0",
          "model_name": "LayoutModel",
          "state": {
            "_model_module": "@jupyter-widgets/base",
            "_model_module_version": "1.2.0",
            "_model_name": "LayoutModel",
            "_view_count": null,
            "_view_module": "@jupyter-widgets/base",
            "_view_module_version": "1.2.0",
            "_view_name": "LayoutView",
            "align_content": null,
            "align_items": null,
            "align_self": null,
            "border": null,
            "bottom": null,
            "display": null,
            "flex": null,
            "flex_flow": null,
            "grid_area": null,
            "grid_auto_columns": null,
            "grid_auto_flow": null,
            "grid_auto_rows": null,
            "grid_column": null,
            "grid_gap": null,
            "grid_row": null,
            "grid_template_areas": null,
            "grid_template_columns": null,
            "grid_template_rows": null,
            "height": null,
            "justify_content": null,
            "justify_items": null,
            "left": null,
            "margin": null,
            "max_height": null,
            "max_width": null,
            "min_height": null,
            "min_width": null,
            "object_fit": null,
            "object_position": null,
            "order": null,
            "overflow": null,
            "overflow_x": null,
            "overflow_y": null,
            "padding": null,
            "right": null,
            "top": null,
            "visibility": null,
            "width": null
          }
        },
        "b17b84c4e29641478c2cbb2d606a5bbb": {
          "model_module": "@jupyter-widgets/controls",
          "model_module_version": "1.5.0",
          "model_name": "DescriptionStyleModel",
          "state": {
            "_model_module": "@jupyter-widgets/controls",
            "_model_module_version": "1.5.0",
            "_model_name": "DescriptionStyleModel",
            "_view_count": null,
            "_view_module": "@jupyter-widgets/base",
            "_view_module_version": "1.2.0",
            "_view_name": "StyleView",
            "description_width": ""
          }
        },
        "cf58fe04ca2a40c39518a684604ae091": {
          "model_module": "@jupyter-widgets/controls",
          "model_module_version": "1.5.0",
          "model_name": "FloatProgressModel",
          "state": {
            "_dom_classes": [],
            "_model_module": "@jupyter-widgets/controls",
            "_model_module_version": "1.5.0",
            "_model_name": "FloatProgressModel",
            "_view_count": null,
            "_view_module": "@jupyter-widgets/controls",
            "_view_module_version": "1.5.0",
            "_view_name": "ProgressView",
            "bar_style": "",
            "description": "",
            "description_tooltip": null,
            "layout": "IPY_MODEL_72919d42b60a422c8a1e4ed8a1a3d3cd",
            "max": 1,
            "min": 0,
            "orientation": "horizontal",
            "style": "IPY_MODEL_e74859c70b5d4dc6b0c54e51432a7e06",
            "value": 0.11616411270390509
          }
        },
        "de4f1f4cc3ce4b9790d23bdb9eb31851": {
          "model_module": "@jupyter-widgets/base",
          "model_module_version": "1.2.0",
          "model_name": "LayoutModel",
          "state": {
            "_model_module": "@jupyter-widgets/base",
            "_model_module_version": "1.2.0",
            "_model_name": "LayoutModel",
            "_view_count": null,
            "_view_module": "@jupyter-widgets/base",
            "_view_module_version": "1.2.0",
            "_view_name": "LayoutView",
            "align_content": null,
            "align_items": null,
            "align_self": null,
            "border": null,
            "bottom": null,
            "display": null,
            "flex": null,
            "flex_flow": null,
            "grid_area": null,
            "grid_auto_columns": null,
            "grid_auto_flow": null,
            "grid_auto_rows": null,
            "grid_column": null,
            "grid_gap": null,
            "grid_row": null,
            "grid_template_areas": null,
            "grid_template_columns": null,
            "grid_template_rows": null,
            "height": null,
            "justify_content": null,
            "justify_items": null,
            "left": null,
            "margin": null,
            "max_height": null,
            "max_width": null,
            "min_height": null,
            "min_width": null,
            "object_fit": null,
            "object_position": null,
            "order": null,
            "overflow": null,
            "overflow_x": null,
            "overflow_y": null,
            "padding": null,
            "right": null,
            "top": null,
            "visibility": null,
            "width": null
          }
        },
        "e74859c70b5d4dc6b0c54e51432a7e06": {
          "model_module": "@jupyter-widgets/controls",
          "model_module_version": "1.5.0",
          "model_name": "ProgressStyleModel",
          "state": {
            "_model_module": "@jupyter-widgets/controls",
            "_model_module_version": "1.5.0",
            "_model_name": "ProgressStyleModel",
            "_view_count": null,
            "_view_module": "@jupyter-widgets/base",
            "_view_module_version": "1.2.0",
            "_view_name": "StyleView",
            "bar_color": null,
            "description_width": ""
          }
        },
        "fd710a94e17b419c8a01726b0d015240": {
          "model_module": "@jupyter-widgets/controls",
          "model_module_version": "1.5.0",
          "model_name": "VBoxModel",
          "state": {
            "_dom_classes": [],
            "_model_module": "@jupyter-widgets/controls",
            "_model_module_version": "1.5.0",
            "_model_name": "VBoxModel",
            "_view_count": null,
            "_view_module": "@jupyter-widgets/controls",
            "_view_module_version": "1.5.0",
            "_view_name": "VBoxView",
            "box_style": "",
            "children": [
              "IPY_MODEL_92b0f0a7d3e940d48f07be195874f9ac",
              "IPY_MODEL_cf58fe04ca2a40c39518a684604ae091"
            ],
            "layout": "IPY_MODEL_03c4ff35576f40ceaddabaeb67be8f8f"
          }
        }
      }
    }
  },
  "nbformat": 4,
  "nbformat_minor": 0
}
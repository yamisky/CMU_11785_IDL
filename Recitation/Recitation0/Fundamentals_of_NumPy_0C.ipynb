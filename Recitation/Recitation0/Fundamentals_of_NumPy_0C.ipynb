{
  "cells": [
    {
      "cell_type": "markdown",
      "metadata": {
        "id": "gDkBWfRPUHoW"
      },
      "source": [
        "# Recitation 0C - Fundamentals of NumPy\n",
        "\n",
        "## Table of Contents\n",
        "1. What is NumPy?\n",
        "2. Installation\n",
        "3. Initialization\n",
        "4. Accessing\n",
        "5. Modifying data\n",
        "6. Pivoting data\n",
        "7. Combining data\n",
        "8. Math operations"
      ]
    },
    {
      "cell_type": "markdown",
      "metadata": {
        "id": "Bg2E91MiUHoY"
      },
      "source": [
        "## 1. What is NumPy?"
      ]
    },
    {
      "cell_type": "markdown",
      "metadata": {
        "id": "xyMzIie_UHoY"
      },
      "source": [
        "NumPy is the fundamental package for scientific computing in Python.\n",
        "It is a Python library that provides and an assortment of operations for fast operations on arrays - from mathematical, logical operations to basic linear algebra, random simulation and much more."
      ]
    },
    {
      "cell_type": "markdown",
      "metadata": {
        "id": "FwBx7NZuUHoY"
      },
      "source": [
        "## 2. Installation\n",
        "Generally NumPy is pre-installed on CoLab/AWS. You should first check if NumPy is available and its version.\n",
        "\n",
        "To manually install Numpy, please follow the instructions below."
      ]
    },
    {
      "cell_type": "code",
      "execution_count": null,
      "metadata": {
        "colab": {
          "base_uri": "https://localhost:8080/"
        },
        "id": "qKkwiJceUHoY",
        "outputId": "1fb7c8c6-7703-41eb-d613-d9879df1e81f"
      },
      "outputs": [
        {
          "name": "stdout",
          "output_type": "stream",
          "text": [
            "Name: numpy\n",
            "Version: 1.23.5\n",
            "Summary: NumPy is the fundamental package for array computing with Python.\n",
            "Home-page: https://www.numpy.org\n",
            "Author: Travis E. Oliphant et al.\n",
            "Author-email: \n",
            "License: BSD\n",
            "Location: /usr/local/lib/python3.10/dist-packages\n",
            "Requires: \n",
            "Required-by: albumentations, altair, arviz, astropy, autograd, blis, bokeh, chex, cmdstanpy, contourpy, cufflinks, cvxpy, datascience, db-dtypes, dopamine-rl, ecos, flax, folium, gensim, gym, h5py, holoviews, hyperopt, imageio, imbalanced-learn, imgaug, jax, jaxlib, librosa, lightgbm, matplotlib, matplotlib-venn, missingno, mizani, ml-dtypes, mlxtend, moviepy, music21, nibabel, numba, numexpr, opencv-contrib-python, opencv-python, opencv-python-headless, opt-einsum, optax, orbax-checkpoint, osqp, pandas, pandas-gbq, patsy, plotnine, prophet, pyarrow, pycocotools, pyerfa, pymc, pytensor, python-louvain, PyWavelets, qdldl, qudida, scikit-image, scikit-learn, scipy, scs, seaborn, shapely, sklearn-pandas, soxr, spacy, statsmodels, tables, tensorboard, tensorflow, tensorflow-datasets, tensorflow-hub, tensorflow-probability, tensorstore, thinc, tifffile, torchtext, torchvision, wordcloud, xarray, xarray-einstats, xgboost, yellowbrick, yfinance\n",
            "Requirement already satisfied: numpy in /usr/local/lib/python3.10/dist-packages (1.23.5)\n"
          ]
        }
      ],
      "source": [
        "# Check the installation of NumPy\n",
        "!pip show numpy\n",
        "\n",
        "# Install NumPy\n",
        "!pip install numpy\n",
        "\n",
        "# Import NumPy\n",
        "import numpy as np"
      ]
    },
    {
      "cell_type": "markdown",
      "metadata": {
        "id": "Xdy_l8t1UHoZ"
      },
      "source": [
        "## 3. Initialization"
      ]
    },
    {
      "cell_type": "markdown",
      "metadata": {
        "id": "oUGb74ZlUHoZ"
      },
      "source": [
        "### a. Intrinsic NumPy array creation functions\n"
      ]
    },
    {
      "cell_type": "markdown",
      "metadata": {
        "id": "CUwdQNjlUHoZ"
      },
      "source": [
        "#### 1D array creation functions"
      ]
    },
    {
      "cell_type": "code",
      "execution_count": null,
      "metadata": {
        "colab": {
          "base_uri": "https://localhost:8080/"
        },
        "id": "68584Y5lUHoa",
        "outputId": "b6709af1-228e-495b-f925-f7cc26446963"
      },
      "outputs": [
        {
          "name": "stdout",
          "output_type": "stream",
          "text": [
            "An array given range is \n",
            " [0 1 2 3 4 5 6 7 8 9]  with dimensions  (10,) \n",
            "\n",
            "An evenly spaced array given range is \n",
            " [2.  2.2 2.4 2.6 2.8]  with dimensions  (5,) \n",
            "\n"
          ]
        }
      ],
      "source": [
        "# return evenly spaced values within a given interval\n",
        "range_arr = np.arange(10)\n",
        "print(\"An array given range is \\n\", range_arr, \" with dimensions \", range_arr.shape, \"\\n\")\n",
        "\n",
        "# return evenly spaced numbers over a specified interval\n",
        "linspace_arr = np.linspace(2.0, 3.0, num=5, endpoint=False)\n",
        "print(\"An evenly spaced array given range is \\n\", linspace_arr, \" with dimensions \", linspace_arr.shape, \"\\n\")"
      ]
    },
    {
      "cell_type": "markdown",
      "metadata": {
        "id": "euoa-mHRUHoa"
      },
      "source": [
        "#### General ndarray creation functions"
      ]
    },
    {
      "cell_type": "code",
      "execution_count": null,
      "metadata": {
        "colab": {
          "base_uri": "https://localhost:8080/"
        },
        "id": "ROAwgXBpUHoa",
        "outputId": "a3830ff0-e699-4162-8fe2-abd042ba8a02"
      },
      "outputs": [
        {
          "name": "stdout",
          "output_type": "stream",
          "text": [
            "An empty array is \n",
            " [[4.64474102e-310 0.00000000e+000]\n",
            " [0.00000000e+000 0.00000000e+000]]  with dimensions  (2, 2) \n",
            "\n",
            "A zeros array is \n",
            " [[0. 0. 0.]\n",
            " [0. 0. 0.]]  with dimensions  (2, 3) \n",
            "\n",
            "A ones array is \n",
            " [[1. 1.]\n",
            " [1. 1.]\n",
            " [1. 1.]\n",
            " [1. 1.]]  with dimensions  (4, 2) \n",
            "\n"
          ]
        }
      ],
      "source": [
        "# initialize an empty array with size 2 x 2\n",
        "empty_arr = np.empty((2, 2))\n",
        "print(\"An empty array is \\n\", empty_arr, \" with dimensions \", empty_arr.shape, \"\\n\")\n",
        "\n",
        "# initialize an all zero array with size 2 x 3\n",
        "zeros_arr = np.zeros((2, 3))\n",
        "print(\"A zeros array is \\n\", zeros_arr, \" with dimensions \", zeros_arr.shape, \"\\n\")\n",
        "\n",
        "# initialize an all one array with size 4 x 2\n",
        "ones_arr = np.ones((4, 2))\n",
        "print(\"A ones array is \\n\", ones_arr, \" with dimensions \", ones_arr.shape, \"\\n\")"
      ]
    },
    {
      "cell_type": "code",
      "execution_count": null,
      "metadata": {
        "colab": {
          "base_uri": "https://localhost:8080/"
        },
        "id": "bxja6CAeUHoa",
        "outputId": "ea0905de-e19f-4ca7-afb9-63c0790b5ab5"
      },
      "outputs": [
        {
          "name": "stdout",
          "output_type": "stream",
          "text": [
            "A zero like array is \n",
            " [[0. 0.]\n",
            " [0. 0.]\n",
            " [0. 0.]\n",
            " [0. 0.]]  with dimensions  (4, 2) \n",
            "\n",
            "A ones like array is \n",
            " [[1. 1. 1.]\n",
            " [1. 1. 1.]]  with dimensions  (2, 3) \n",
            "\n"
          ]
        }
      ],
      "source": [
        "# return an array of zeros with the same shape and type as a given array\n",
        "zeros_like_arr = np.zeros_like(ones_arr)\n",
        "print(\"A zero like array is \\n\", zeros_like_arr, \" with dimensions \", zeros_like_arr.shape, \"\\n\")\n",
        "\n",
        "# return an array of ones with the same shape and type as a given array\n",
        "ones_like_arr = np.ones_like(zeros_arr)\n",
        "print(\"A ones like array is \\n\", ones_like_arr, \" with dimensions \", ones_like_arr.shape, \"\\n\")"
      ]
    },
    {
      "cell_type": "code",
      "execution_count": null,
      "metadata": {
        "colab": {
          "base_uri": "https://localhost:8080/"
        },
        "id": "keILIJP5UHob",
        "outputId": "ce954233-2e1f-470b-a594-04e27daa1766"
      },
      "outputs": [
        {
          "name": "stdout",
          "output_type": "stream",
          "text": [
            "A filled array is \n",
            " [[10 10]\n",
            " [10 10]]  with dimensions  (2, 2) \n",
            "\n",
            "A full like array is \n",
            " [[0.1 0.1 0.1]\n",
            " [0.1 0.1 0.1]]  with dimensions  (2, 3) \n",
            "\n"
          ]
        }
      ],
      "source": [
        "# return a new array of given shape and type, filled with fill_value\n",
        "tens_arr = np.full((2,2), 10)\n",
        "print(\"A filled array is \\n\", tens_arr, \" with dimensions \", tens_arr.shape, \"\\n\")\n",
        "\n",
        "# Return a full array with the same shape and type as a given array.\n",
        "full_like_arr = np.full_like(zeros_arr, 0.1, dtype=np.double)\n",
        "print(\"A full like array is \\n\", full_like_arr, \" with dimensions \", full_like_arr.shape, \"\\n\")"
      ]
    },
    {
      "cell_type": "markdown",
      "metadata": {
        "id": "m1E9zAYlUHob"
      },
      "source": [
        "### b. Create an array from existing data"
      ]
    },
    {
      "cell_type": "markdown",
      "metadata": {
        "id": "AEAjp7Q1UHob"
      },
      "source": [
        "#### Conversion from other Python structures (i.e. lists and tuples)"
      ]
    },
    {
      "cell_type": "code",
      "execution_count": null,
      "metadata": {
        "colab": {
          "base_uri": "https://localhost:8080/"
        },
        "id": "jYOkx6YAUHob",
        "outputId": "70289b9f-0f00-49f9-bfec-f94d977e7179"
      },
      "outputs": [
        {
          "name": "stdout",
          "output_type": "stream",
          "text": [
            "An array from given list is \n",
            " [1 2 3 4]  with dimensions  (4,) \n",
            "\n"
          ]
        }
      ],
      "source": [
        "# initialize an array with the given list\n",
        "new_list = [1, 2, 3, 4]\n",
        "arr_from_list = np.array(new_list)\n",
        "print(\"An array from given list is \\n\", arr_from_list, \" with dimensions \", arr_from_list.shape, \"\\n\")"
      ]
    },
    {
      "cell_type": "markdown",
      "metadata": {
        "id": "MAnTiENLUHob"
      },
      "source": [
        "#### Reading arrays from disk"
      ]
    },
    {
      "cell_type": "code",
      "execution_count": null,
      "metadata": {
        "id": "pWmfdfDbUHoc"
      },
      "outputs": [],
      "source": [
        "# initialize an array by loading data from a txt file\n",
        "#txt_arr = np.loadtxt(path_to_txt_file)\n",
        "\n",
        "# initialize an array by loading data from a npy file\n",
        "#loaded_arr = np.load(path_to_npy_file)"
      ]
    },
    {
      "cell_type": "markdown",
      "metadata": {
        "id": "MVT_ryUvUHoc"
      },
      "source": [
        "### c. Use of special library functions (e.g., random)"
      ]
    },
    {
      "cell_type": "code",
      "execution_count": null,
      "metadata": {
        "colab": {
          "base_uri": "https://localhost:8080/"
        },
        "id": "IY8q37hsUHoc",
        "outputId": "ce16c1b9-0d80-4d24-a6f5-505f281ac571"
      },
      "outputs": [
        {
          "name": "stdout",
          "output_type": "stream",
          "text": [
            "Random integer array [[3 5 4 7]] of shape  (1, 4)\n",
            "Random integer array with seed [[5 0 3 3]] of shape  (1, 4)\n"
          ]
        }
      ],
      "source": [
        "a = np.random.randint(0, 10, size = (1,4))\n",
        "print(\"Random integer array\", a, \"of shape \", a.shape)\n",
        "\n",
        "np.random.seed(0)\n",
        "a = np.random.randint(0, 10, size = (1,4))\n",
        "print(\"Random integer array with seed\", a, \"of shape \", a.shape)"
      ]
    },
    {
      "cell_type": "code",
      "execution_count": null,
      "metadata": {
        "colab": {
          "base_uri": "https://localhost:8080/"
        },
        "id": "hBBaGmNvUHoc",
        "outputId": "7c3121fc-a15f-418f-da8a-6723c8b750dd"
      },
      "outputs": [
        {
          "name": "stdout",
          "output_type": "stream",
          "text": [
            "A random array from a uniform distribution is \n",
            " [[0.84725174 0.6235637 ]\n",
            " [0.38438171 0.29753461]\n",
            " [0.05671298 0.27265629]]  with dimensions  (3, 2) \n",
            "\n",
            "A random array from a gaussian distribution is \n",
            " [[ 6.41366795  2.7557607  -3.06488643  1.8673605 ]\n",
            " [ 1.82307249  5.43253999 -0.19537279  6.5934267 ]]\n",
            "with mu:  3\n",
            "with sigma:  2.5\n",
            "with dimensions  (2, 4)\n"
          ]
        }
      ],
      "source": [
        "# create an array of the given shape and populate it with random samples from a uniform distribution over [0, 1)\n",
        "uniform_rand_arr = np.random.rand(3,2)\n",
        "print(\"A random array from a uniform distribution is \\n\", uniform_rand_arr, \" with dimensions \", uniform_rand_arr.shape, \"\\n\")\n",
        "\n",
        "# For random samples from N(\\mu, \\sigma^2), use:\n",
        "# sigma * np.random.randn(...) + mu\n",
        "mu = 3\n",
        "sigma =2.5\n",
        "sample_normal_arr = mu + sigma * np.random.randn(2, 4)\n",
        "print(\"A random array from a gaussian distribution is \\n\", sample_normal_arr)\n",
        "print(\"with mu: \", mu)\n",
        "print(\"with sigma: \", sigma)\n",
        "print(\"with dimensions \", sample_normal_arr.shape)"
      ]
    },
    {
      "cell_type": "markdown",
      "metadata": {
        "id": "yQibb4OSUHoc"
      },
      "source": [
        "## 4. Accessing data"
      ]
    },
    {
      "cell_type": "markdown",
      "metadata": {
        "id": "Mp3uhjWwUHoc"
      },
      "source": [
        "### a. Indexing: Accessing values from Numpy Arrays"
      ]
    },
    {
      "cell_type": "code",
      "execution_count": null,
      "metadata": {
        "colab": {
          "base_uri": "https://localhost:8080/"
        },
        "id": "Z1i8hBBuUHod",
        "outputId": "e40ef358-1ec7-4cd7-b288-b29a66ee2fd5"
      },
      "outputs": [
        {
          "data": {
            "text/plain": [
              "0.609177581558388"
            ]
          },
          "execution_count": 35,
          "metadata": {},
          "output_type": "execute_result"
        }
      ],
      "source": [
        "n = np.random.rand(4, 5, 6) # see this as 4 batches, each containing 5 rows and 6 columns\n",
        "n\n",
        "\n",
        "n[0, 2, 3] # returns the element located in the fourth column of third row of the first batch."
      ]
    },
    {
      "cell_type": "markdown",
      "metadata": {
        "id": "lJDWqRiwUHoe"
      },
      "source": [
        "### b. Slicing: Accessing subsections of Numpy Arrays based on Indices"
      ]
    },
    {
      "cell_type": "code",
      "execution_count": null,
      "metadata": {
        "colab": {
          "base_uri": "https://localhost:8080/"
        },
        "id": "ZtyXvq_aUHoe",
        "outputId": "7f46b9c8-2fce-4369-a216-461a935a2216"
      },
      "outputs": [
        {
          "name": "stdout",
          "output_type": "stream",
          "text": [
            "[[0.95715516 0.14035078 0.87008726 0.47360805 0.80091075 0.52047748]\n",
            " [0.67887953 0.72063265 0.58201979 0.53737323 0.75861562 0.10590761]\n",
            " [0.47360042 0.18633234 0.73691818 0.21655035 0.13521817 0.32414101]\n",
            " [0.14967487 0.22232139 0.38648898 0.90259848 0.44994999 0.61306346]\n",
            " [0.90234858 0.09928035 0.96980907 0.65314004 0.17090959 0.35815217]]\n",
            "[[0.95715516 0.14035078 0.87008726 0.47360805]\n",
            " [0.67887953 0.72063265 0.58201979 0.53737323]\n",
            " [0.47360042 0.18633234 0.73691818 0.21655035]]\n",
            "[0.44994999 0.971945   0.14644176 0.38346223]\n"
          ]
        }
      ],
      "source": [
        "# slice along a batch\n",
        "print(n[0, :, :]) # same as: n[0]\n",
        "\n",
        "print(n[0, 0:3, 0:4])\n",
        "\n",
        "# slice along multiple batches\n",
        "print(n[:, 3, 4]) # returns the elements in the 4th row and 5th column across all batches"
      ]
    },
    {
      "cell_type": "code",
      "execution_count": null,
      "metadata": {
        "colab": {
          "base_uri": "https://localhost:8080/"
        },
        "id": "ZGaxieiKUHoe",
        "outputId": "99766789-19ee-49e2-aa9c-5e5f8689a5b5"
      },
      "outputs": [
        {
          "name": "stdout",
          "output_type": "stream",
          "text": [
            "[[[9.68961765e-01 3.20997241e-01 2.21262685e-01 1.41263905e-01\n",
            "   9.72599271e-02 9.84042241e-01]\n",
            "  [2.60340928e-01 5.37022521e-01 4.47926172e-01 9.95690891e-02\n",
            "   3.52311661e-01 4.69249174e-01]\n",
            "  [8.41140130e-01 9.04647744e-01 3.75593838e-02 5.08315449e-01\n",
            "   1.66847513e-01 7.79051020e-01]\n",
            "  [8.64933296e-01 4.11396724e-01 1.39972585e-01 3.32223853e-02\n",
            "   9.82574960e-01 3.73290751e-01]\n",
            "  [4.20075370e-01 5.05881151e-02 3.65496106e-01 1.66279737e-02\n",
            "   2.30742335e-01 7.64911699e-01]]\n",
            "\n",
            " [[8.52955659e-02 5.64183327e-02 4.87837704e-01 8.81004562e-01\n",
            "   9.76404387e-01 6.17657916e-01]\n",
            "  [5.42498775e-01 8.54613580e-01 7.43834545e-01 4.78596326e-01\n",
            "   6.77081574e-01 6.07045061e-01]\n",
            "  [7.14696936e-01 4.69497183e-01 4.56014623e-01 9.06418087e-01\n",
            "   1.37220420e-01 2.29219323e-01]\n",
            "  [8.81585399e-01 9.04424976e-01 6.45784599e-01 3.24682972e-01\n",
            "   5.19711194e-01 5.53568650e-05]\n",
            "  [3.11860221e-01 4.25451538e-01 8.85337660e-01 6.79879456e-01\n",
            "   4.56129772e-01 4.83408617e-01]]]\n",
            "[[[5.37022521e-01 9.95690891e-02 4.69249174e-01]\n",
            "  [9.04647744e-01 5.08315449e-01 7.79051020e-01]\n",
            "  [4.11396724e-01 3.32223853e-02 3.73290751e-01]]\n",
            "\n",
            " [[8.54613580e-01 4.78596326e-01 6.07045061e-01]\n",
            "  [4.69497183e-01 9.06418087e-01 2.29219323e-01]\n",
            "  [9.04424976e-01 3.24682972e-01 5.53568650e-05]]]\n"
          ]
        }
      ],
      "source": [
        "#syntax for slicing at interval is start:stop:step_size\n",
        "\n",
        "print(n[0::2]) # slices from index 0 to the end of the dimension at intervals of 2\n",
        "\n",
        "print(n[0::2, 1:4, 1::2]) # rows (2-5) and columns at an interval of 2, starting from 1"
      ]
    },
    {
      "cell_type": "markdown",
      "metadata": {
        "id": "pCqRKB4XUHoe"
      },
      "source": [
        "## 5. Modifying data"
      ]
    },
    {
      "cell_type": "markdown",
      "metadata": {
        "id": "V422LTUFUHoe"
      },
      "source": [
        "### Modify single values"
      ]
    },
    {
      "cell_type": "code",
      "execution_count": null,
      "metadata": {
        "colab": {
          "base_uri": "https://localhost:8080/"
        },
        "id": "JBJjZ_oOUHoe",
        "outputId": "d5ba0269-b7a7-4dfa-9605-7e5097d15b97"
      },
      "outputs": [
        {
          "name": "stdout",
          "output_type": "stream",
          "text": [
            "True\n",
            "False\n"
          ]
        }
      ],
      "source": [
        "#When you assign an array or its elements to a new variable,\n",
        "#you have to explicitly numpy.copy the array, otherwise the variable is a view into the original array.\n",
        "\n",
        "n_copy = np.copy(n)\n",
        "\n",
        "# check if values in the two arrays are the same before copy\n",
        "print(n_copy[2, 4, 1] == n[2, 4, 1])\n",
        "\n",
        "n_copy[2, 4, 1] = 0.005\n",
        "\n",
        "# check if values in the two arrays are the same after copy\n",
        "print(n_copy[2, 4, 1] == n[2, 4, 1])"
      ]
    },
    {
      "cell_type": "markdown",
      "metadata": {
        "id": "kagdeyCgUHoe"
      },
      "source": [
        "### Modifying multiple values"
      ]
    },
    {
      "cell_type": "code",
      "execution_count": null,
      "metadata": {
        "colab": {
          "base_uri": "https://localhost:8080/"
        },
        "id": "47TDWES2UHof",
        "outputId": "eaff9ba5-ed97-4346-83cd-11685add1373"
      },
      "outputs": [
        {
          "name": "stdout",
          "output_type": "stream",
          "text": [
            "Are the arrays the same before modification: [ True  True  True  True  True  True]\n",
            "Before modifying values: [8.81585399e-01 9.04424976e-01 6.45784599e-01 3.24682972e-01\n",
            " 5.19711194e-01 5.53568650e-05]\n",
            "After modifying values: [0.5 0.5 0.5 0.5 0.5 0.5]\n",
            "Are the arrays the same after modification: [False False False False False False]\n"
          ]
        }
      ],
      "source": [
        "# check if values in the two arrays are the same before copy\n",
        "print(f\"Are the arrays the same before modification: {n_copy[2, 3] == n[2, 3]}\")\n",
        "print(f\"Before modifying values: {n_copy[2, 3]}\")\n",
        "\n",
        "n_copy[2, 3] = 0.5\n",
        "\n",
        "print(f\"After modifying values: {n_copy[2, 3]}\")\n",
        "\n",
        "# check if values in the two arrays are the same after copy\n",
        "print(f\"Are the arrays the same after modification: {n_copy[2, 3] == n[2, 3]}\")"
      ]
    },
    {
      "cell_type": "markdown",
      "metadata": {
        "id": "qTO1JGLcUHof"
      },
      "source": [
        "## 6.Pivoting data"
      ]
    },
    {
      "cell_type": "markdown",
      "metadata": {
        "id": "QbAfPyVaUHof"
      },
      "source": [
        "### a. Reshaping Arrays\n",
        "Array reshaping is an operation that changes the shape of an array whilst maintaining the same data in the array.\n",
        "\n",
        "For instance, reshaping from (3, 4, 5) -> (2, 5, 6) or from (3, 4, 5) -> (6, 10). A reshape operation is valid, so long as the product of the new shape specified matches the product of the old shape."
      ]
    },
    {
      "cell_type": "markdown",
      "metadata": {
        "id": "1B5m4_ZPUHof"
      },
      "source": [
        "#### Reshaping within the same number of dimensions"
      ]
    },
    {
      "cell_type": "code",
      "execution_count": null,
      "metadata": {
        "colab": {
          "base_uri": "https://localhost:8080/"
        },
        "id": "wIpNf86FUHof",
        "outputId": "fbc67176-dd6a-464a-b134-a6204387912b"
      },
      "outputs": [
        {
          "name": "stdout",
          "output_type": "stream",
          "text": [
            "Original Shape: (3, 4, 5)\n",
            "[[[0.04561464 0.20915703 0.28691504 0.67726331 0.06303829]\n",
            "  [0.55564924 0.00924007 0.8330381  0.98432943 0.70349478]\n",
            "  [0.1816312  0.51239346 0.58044714 0.78754216 0.60647546]\n",
            "  [0.21840285 0.45516882 0.87886974 0.49226824 0.71556116]]\n",
            "\n",
            " [[0.48615956 0.70854815 0.49814023 0.84455008 0.19434222]\n",
            "  [0.77332601 0.97425866 0.86230978 0.78042665 0.98503228]\n",
            "  [0.75356961 0.00404811 0.26947943 0.41049214 0.42822383]\n",
            "  [0.29784182 0.40113234 0.12065699 0.98069967 0.40612049]]\n",
            "\n",
            " [[0.56921076 0.3436055  0.78887278 0.41137241 0.35927142]\n",
            "  [0.39949891 0.30183088 0.77521978 0.92621293 0.32531031]\n",
            "  [0.95287067 0.0139484  0.53346568 0.30458203 0.88286   ]\n",
            "  [0.25062272 0.67741183 0.81042409 0.43214805 0.75213452]]]\n"
          ]
        }
      ],
      "source": [
        "s = np.random.rand(3, 4, 5)\n",
        "print(f\"Original Shape: {s.shape}\")\n",
        "\n",
        "s.size\n",
        "\n",
        "print(s)"
      ]
    },
    {
      "cell_type": "code",
      "execution_count": null,
      "metadata": {
        "colab": {
          "base_uri": "https://localhost:8080/"
        },
        "id": "AFX0YtP9UHof",
        "outputId": "ffc63127-a381-4efd-eab5-5d036f7e892e"
      },
      "outputs": [
        {
          "name": "stdout",
          "output_type": "stream",
          "text": [
            "Reshaped from s: (2, 6, 5)\n",
            "[[[0.04561464 0.20915703 0.28691504 0.67726331 0.06303829]\n",
            "  [0.55564924 0.00924007 0.8330381  0.98432943 0.70349478]\n",
            "  [0.1816312  0.51239346 0.58044714 0.78754216 0.60647546]\n",
            "  [0.21840285 0.45516882 0.87886974 0.49226824 0.71556116]\n",
            "  [0.48615956 0.70854815 0.49814023 0.84455008 0.19434222]\n",
            "  [0.77332601 0.97425866 0.86230978 0.78042665 0.98503228]]\n",
            "\n",
            " [[0.75356961 0.00404811 0.26947943 0.41049214 0.42822383]\n",
            "  [0.29784182 0.40113234 0.12065699 0.98069967 0.40612049]\n",
            "  [0.56921076 0.3436055  0.78887278 0.41137241 0.35927142]\n",
            "  [0.39949891 0.30183088 0.77521978 0.92621293 0.32531031]\n",
            "  [0.95287067 0.0139484  0.53346568 0.30458203 0.88286   ]\n",
            "  [0.25062272 0.67741183 0.81042409 0.43214805 0.75213452]]]\n"
          ]
        }
      ],
      "source": [
        "s1 = s.reshape(2, 6, 5)\n",
        "print(f\"Reshaped from s: {s1.shape}\")\n",
        "\n",
        "print(s1)"
      ]
    },
    {
      "cell_type": "markdown",
      "metadata": {
        "id": "lJAEwd3ZUHof"
      },
      "source": [
        "#### Reshaping to a different number of dimensions"
      ]
    },
    {
      "cell_type": "code",
      "execution_count": null,
      "metadata": {
        "colab": {
          "base_uri": "https://localhost:8080/"
        },
        "id": "sAbf1RYoUHof",
        "outputId": "16f4ee75-cd3f-4de1-91a8-ad14a8b8e319"
      },
      "outputs": [
        {
          "name": "stdout",
          "output_type": "stream",
          "text": [
            "Original shape: (120,)\n",
            "[  0   1   2   3   4   5   6   7   8   9  10  11  12  13  14  15  16  17\n",
            "  18  19  20  21  22  23  24  25  26  27  28  29  30  31  32  33  34  35\n",
            "  36  37  38  39  40  41  42  43  44  45  46  47  48  49  50  51  52  53\n",
            "  54  55  56  57  58  59  60  61  62  63  64  65  66  67  68  69  70  71\n",
            "  72  73  74  75  76  77  78  79  80  81  82  83  84  85  86  87  88  89\n",
            "  90  91  92  93  94  95  96  97  98  99 100 101 102 103 104 105 106 107\n",
            " 108 109 110 111 112 113 114 115 116 117 118 119]\n"
          ]
        }
      ],
      "source": [
        "r = np.arange(120)\n",
        "\n",
        "print(f\"Original shape: {r.shape}\")\n",
        "\n",
        "print(r)"
      ]
    },
    {
      "cell_type": "code",
      "execution_count": null,
      "metadata": {
        "colab": {
          "base_uri": "https://localhost:8080/"
        },
        "id": "GJm9xba5UHop",
        "outputId": "08bb25ac-3eca-41a1-e135-5e9f8e6abb21"
      },
      "outputs": [
        {
          "name": "stdout",
          "output_type": "stream",
          "text": [
            "Reshaped from r: (3, 4, 10)\n",
            "[[[  0   1   2   3   4   5   6   7   8   9]\n",
            "  [ 10  11  12  13  14  15  16  17  18  19]\n",
            "  [ 20  21  22  23  24  25  26  27  28  29]\n",
            "  [ 30  31  32  33  34  35  36  37  38  39]]\n",
            "\n",
            " [[ 40  41  42  43  44  45  46  47  48  49]\n",
            "  [ 50  51  52  53  54  55  56  57  58  59]\n",
            "  [ 60  61  62  63  64  65  66  67  68  69]\n",
            "  [ 70  71  72  73  74  75  76  77  78  79]]\n",
            "\n",
            " [[ 80  81  82  83  84  85  86  87  88  89]\n",
            "  [ 90  91  92  93  94  95  96  97  98  99]\n",
            "  [100 101 102 103 104 105 106 107 108 109]\n",
            "  [110 111 112 113 114 115 116 117 118 119]]]\n"
          ]
        }
      ],
      "source": [
        "# (120,) -> (3, 4, 10)\n",
        "r1 = r.reshape(3, 4, 10) # this can also be written as r.reshape((3, 4, 10))\n",
        "print(f\"Reshaped from r: {r1.shape}\")\n",
        "\n",
        "print(r1)"
      ]
    },
    {
      "cell_type": "code",
      "execution_count": null,
      "metadata": {
        "colab": {
          "base_uri": "https://localhost:8080/"
        },
        "id": "YbwQX4jCUHop",
        "outputId": "1d8ec24f-8cfa-455a-ce60-721eda88a087"
      },
      "outputs": [
        {
          "name": "stdout",
          "output_type": "stream",
          "text": [
            "Reshaped from r1: (6, 20)\n",
            "[[  0   1   2   3   4   5   6   7   8   9  10  11  12  13  14  15  16  17\n",
            "   18  19]\n",
            " [ 20  21  22  23  24  25  26  27  28  29  30  31  32  33  34  35  36  37\n",
            "   38  39]\n",
            " [ 40  41  42  43  44  45  46  47  48  49  50  51  52  53  54  55  56  57\n",
            "   58  59]\n",
            " [ 60  61  62  63  64  65  66  67  68  69  70  71  72  73  74  75  76  77\n",
            "   78  79]\n",
            " [ 80  81  82  83  84  85  86  87  88  89  90  91  92  93  94  95  96  97\n",
            "   98  99]\n",
            " [100 101 102 103 104 105 106 107 108 109 110 111 112 113 114 115 116 117\n",
            "  118 119]]\n"
          ]
        }
      ],
      "source": [
        "# (3, 4, 10) -> (6, 20)\n",
        "r2 = r1.reshape(6, 20)\n",
        "print(f\"Reshaped from r1: {r2.shape}\")\n",
        "\n",
        "print(r2)"
      ]
    },
    {
      "cell_type": "markdown",
      "metadata": {
        "id": "5G2h9RNDUHop"
      },
      "source": [
        "### b. Transposing Arrays\n",
        "The transpose operation reverses the order of an array. It switches the rows to columns and vice versa. In a multi-dimensional array, the transpose operation moves the data from one axis to another in the order specified in the transpose method."
      ]
    },
    {
      "cell_type": "code",
      "execution_count": null,
      "metadata": {
        "colab": {
          "base_uri": "https://localhost:8080/"
        },
        "id": "jI_uIdvnUHop",
        "outputId": "96cdf8e5-f654-45f7-ef68-073203765cc6"
      },
      "outputs": [
        {
          "name": "stdout",
          "output_type": "stream",
          "text": [
            "Shape of the original array (5, 10)\n",
            "Original array\n",
            " [[ 0  1  2  3  4  5  6  7  8  9]\n",
            " [10 11 12 13 14 15 16 17 18 19]\n",
            " [20 21 22 23 24 25 26 27 28 29]\n",
            " [30 31 32 33 34 35 36 37 38 39]\n",
            " [40 41 42 43 44 45 46 47 48 49]]\n",
            "Shape of the transposed array (10, 5)\n",
            "Transposed array\n",
            " [[ 0 10 20 30 40]\n",
            " [ 1 11 21 31 41]\n",
            " [ 2 12 22 32 42]\n",
            " [ 3 13 23 33 43]\n",
            " [ 4 14 24 34 44]\n",
            " [ 5 15 25 35 45]\n",
            " [ 6 16 26 36 46]\n",
            " [ 7 17 27 37 47]\n",
            " [ 8 18 28 38 48]\n",
            " [ 9 19 29 39 49]]\n"
          ]
        },
        {
          "data": {
            "text/plain": [
              "array([[ 0, 10, 20, 30, 40],\n",
              "       [ 1, 11, 21, 31, 41],\n",
              "       [ 2, 12, 22, 32, 42],\n",
              "       [ 3, 13, 23, 33, 43],\n",
              "       [ 4, 14, 24, 34, 44],\n",
              "       [ 5, 15, 25, 35, 45],\n",
              "       [ 6, 16, 26, 36, 46],\n",
              "       [ 7, 17, 27, 37, 47],\n",
              "       [ 8, 18, 28, 38, 48],\n",
              "       [ 9, 19, 29, 39, 49]])"
            ]
          },
          "execution_count": 20,
          "metadata": {},
          "output_type": "execute_result"
        }
      ],
      "source": [
        "x=np.arange(50).reshape((5,10))\n",
        "print(\"Shape of the original array\", x.shape)\n",
        "print(\"Original array\\n\", x)\n",
        "\n",
        "x1=np.transpose(x)\n",
        "print(\"Shape of the transposed array\", x1.shape)\n",
        "print(\"Transposed array\\n\", x1)\n",
        "\n",
        "x.T"
      ]
    },
    {
      "cell_type": "code",
      "execution_count": null,
      "metadata": {
        "colab": {
          "base_uri": "https://localhost:8080/"
        },
        "id": "TOoA-hIyUHop",
        "outputId": "7b557205-1ae5-4cf6-f039-69cb282547ec"
      },
      "outputs": [
        {
          "name": "stdout",
          "output_type": "stream",
          "text": [
            "Shape of the Original array (3, 4, 5)\n",
            "Original array\n",
            " [[[ 0  1  2  3  4]\n",
            "  [ 5  6  7  8  9]\n",
            "  [10 11 12 13 14]\n",
            "  [15 16 17 18 19]]\n",
            "\n",
            " [[20 21 22 23 24]\n",
            "  [25 26 27 28 29]\n",
            "  [30 31 32 33 34]\n",
            "  [35 36 37 38 39]]\n",
            "\n",
            " [[40 41 42 43 44]\n",
            "  [45 46 47 48 49]\n",
            "  [50 51 52 53 54]\n",
            "  [55 56 57 58 59]]]\n"
          ]
        }
      ],
      "source": [
        "w = np.arange(60).reshape((3, 4, 5))\n",
        "w\n",
        "\n",
        "print(\"Shape of the Original array\", w.shape)\n",
        "print(\"Original array\\n\", w)\n",
        "\n"
      ]
    },
    {
      "cell_type": "markdown",
      "metadata": {
        "id": "pW7nNVwMUHoq"
      },
      "source": [
        "#### Transpose without specifying axes"
      ]
    },
    {
      "cell_type": "code",
      "execution_count": null,
      "metadata": {
        "colab": {
          "base_uri": "https://localhost:8080/"
        },
        "id": "PQ-ktVeLUHoq",
        "outputId": "1c7b8c73-e5db-4435-835f-487f3488fd41"
      },
      "outputs": [
        {
          "name": "stdout",
          "output_type": "stream",
          "text": [
            "Shape of the transposed array (5, 4, 3)\n",
            "Transposed array\n",
            " [[[ 0 20 40]\n",
            "  [ 5 25 45]\n",
            "  [10 30 50]\n",
            "  [15 35 55]]\n",
            "\n",
            " [[ 1 21 41]\n",
            "  [ 6 26 46]\n",
            "  [11 31 51]\n",
            "  [16 36 56]]\n",
            "\n",
            " [[ 2 22 42]\n",
            "  [ 7 27 47]\n",
            "  [12 32 52]\n",
            "  [17 37 57]]\n",
            "\n",
            " [[ 3 23 43]\n",
            "  [ 8 28 48]\n",
            "  [13 33 53]\n",
            "  [18 38 58]]\n",
            "\n",
            " [[ 4 24 44]\n",
            "  [ 9 29 49]\n",
            "  [14 34 54]\n",
            "  [19 39 59]]]\n"
          ]
        }
      ],
      "source": [
        "# Original Shape: 3,4,5\n",
        "\n",
        "w1 = np.transpose(w)  # 0->2, 1->1, 2->0   (0,1,2)->(2,1,0)\n",
        "print(\"Shape of the transposed array\", w1.shape)\n",
        "print(\"Transposed array\\n\", w1)"
      ]
    },
    {
      "cell_type": "markdown",
      "metadata": {
        "id": "eZxSowAjUHoq"
      },
      "source": [
        "#### Transpose along specified axes"
      ]
    },
    {
      "cell_type": "code",
      "execution_count": null,
      "metadata": {
        "colab": {
          "base_uri": "https://localhost:8080/"
        },
        "id": "AipHmffuUHoq",
        "outputId": "58b42a4c-6c22-4909-f738-b58cbaf0de67"
      },
      "outputs": [
        {
          "name": "stdout",
          "output_type": "stream",
          "text": [
            "Shape of the transposed array (3, 5, 4)\n",
            "Transposed array\n",
            " [[[ 0  5 10 15]\n",
            "  [ 1  6 11 16]\n",
            "  [ 2  7 12 17]\n",
            "  [ 3  8 13 18]\n",
            "  [ 4  9 14 19]]\n",
            "\n",
            " [[20 25 30 35]\n",
            "  [21 26 31 36]\n",
            "  [22 27 32 37]\n",
            "  [23 28 33 38]\n",
            "  [24 29 34 39]]\n",
            "\n",
            " [[40 45 50 55]\n",
            "  [41 46 51 56]\n",
            "  [42 47 52 57]\n",
            "  [43 48 53 58]\n",
            "  [44 49 54 59]]]\n",
            "Shape of the transposed array (4, 5, 3)\n",
            "Transposed array\n",
            " [[[ 0 20 40]\n",
            "  [ 1 21 41]\n",
            "  [ 2 22 42]\n",
            "  [ 3 23 43]\n",
            "  [ 4 24 44]]\n",
            "\n",
            " [[ 5 25 45]\n",
            "  [ 6 26 46]\n",
            "  [ 7 27 47]\n",
            "  [ 8 28 48]\n",
            "  [ 9 29 49]]\n",
            "\n",
            " [[10 30 50]\n",
            "  [11 31 51]\n",
            "  [12 32 52]\n",
            "  [13 33 53]\n",
            "  [14 34 54]]\n",
            "\n",
            " [[15 35 55]\n",
            "  [16 36 56]\n",
            "  [17 37 57]\n",
            "  [18 38 58]\n",
            "  [19 39 59]]]\n"
          ]
        }
      ],
      "source": [
        "w\n",
        "\n",
        "# Original Shape: 3,4,5\n",
        "\n",
        "w2 = np.transpose(w, axes=(0, 2, 1)) # 0, 1, 2\n",
        "print(\"Shape of the transposed array\", w2.shape)\n",
        "print(\"Transposed array\\n\", w2)\n",
        "\n",
        "# Original Shape: 3,4,5\n",
        "\n",
        "w3 = np.transpose(w, axes=(1, 2, 0))\n",
        "print(\"Shape of the transposed array\", w3.shape)\n",
        "print(\"Transposed array\\n\", w3)"
      ]
    },
    {
      "cell_type": "markdown",
      "metadata": {
        "id": "1CjVjxwlUHoq"
      },
      "source": [
        "### c. Flattening Arrays\n",
        "The flatten operation in Numpy collapses arrays of multiple dimensions into one dimension.\n",
        "\n",
        "\n",
        "Different orders can be specified when flattening Numpy Arrays. See examples below."
      ]
    },
    {
      "cell_type": "code",
      "execution_count": null,
      "metadata": {
        "colab": {
          "base_uri": "https://localhost:8080/"
        },
        "id": "BQoVOUpsUHoq",
        "outputId": "9f882858-7028-48a7-8fde-bf21ca37d5c5"
      },
      "outputs": [
        {
          "data": {
            "text/plain": [
              "array([[0.82960225, 0.37903377, 0.09654961, 0.25613958, 0.59193516,\n",
              "        0.4764772 ],\n",
              "       [0.48793457, 0.45851455, 0.52459262, 0.44201532, 0.85263492,\n",
              "        0.43343897],\n",
              "       [0.82687037, 0.50934207, 0.08637698, 0.66003986, 0.20659461,\n",
              "        0.84727532],\n",
              "       [0.68135913, 0.17836735, 0.06985902, 0.00968817, 0.89204966,\n",
              "        0.13346521],\n",
              "       [0.77919197, 0.92516343, 0.71517875, 0.49081861, 0.4694983 ,\n",
              "        0.88270929]])"
            ]
          },
          "execution_count": 24,
          "metadata": {},
          "output_type": "execute_result"
        }
      ],
      "source": [
        "k = np.random.rand(5, 6)\n",
        "\n",
        "k"
      ]
    },
    {
      "cell_type": "markdown",
      "metadata": {
        "id": "4_2FOw7mUHoq"
      },
      "source": [
        "#### Flattening Arrays along the row (default order)"
      ]
    },
    {
      "cell_type": "code",
      "execution_count": null,
      "metadata": {
        "colab": {
          "base_uri": "https://localhost:8080/"
        },
        "id": "gt9Uh1DlUHor",
        "outputId": "794431b1-16ea-4be3-a5b3-ef85fe1caa7c"
      },
      "outputs": [
        {
          "data": {
            "text/plain": [
              "(30,)"
            ]
          },
          "execution_count": 25,
          "metadata": {},
          "output_type": "execute_result"
        }
      ],
      "source": [
        "k1 = k.flatten() # all rows are stacked on each other into a 1D array.\n",
        "k1\n",
        "\n",
        "k1.shape"
      ]
    },
    {
      "cell_type": "code",
      "execution_count": null,
      "metadata": {
        "colab": {
          "base_uri": "https://localhost:8080/"
        },
        "id": "7A5CQ808eRtc",
        "outputId": "33f82109-76a5-45bc-ed45-cf781d24b0ab"
      },
      "outputs": [
        {
          "data": {
            "text/plain": [
              "array([0.82960225, 0.37903377, 0.09654961, 0.25613958, 0.59193516,\n",
              "       0.4764772 , 0.48793457, 0.45851455, 0.52459262, 0.44201532,\n",
              "       0.85263492, 0.43343897, 0.82687037, 0.50934207, 0.08637698,\n",
              "       0.66003986, 0.20659461, 0.84727532, 0.68135913, 0.17836735,\n",
              "       0.06985902, 0.00968817, 0.89204966, 0.13346521, 0.77919197,\n",
              "       0.92516343, 0.71517875, 0.49081861, 0.4694983 , 0.88270929])"
            ]
          },
          "execution_count": 26,
          "metadata": {},
          "output_type": "execute_result"
        }
      ],
      "source": [
        "k1"
      ]
    },
    {
      "cell_type": "markdown",
      "metadata": {
        "id": "rVQEPkUeUHor"
      },
      "source": [
        "#### Flattening Arrays along the column"
      ]
    },
    {
      "cell_type": "code",
      "execution_count": null,
      "metadata": {
        "colab": {
          "base_uri": "https://localhost:8080/"
        },
        "id": "pMEmQW3cUHor",
        "outputId": "d0b7b0e8-4097-4c6a-931d-8d0d19d21013"
      },
      "outputs": [
        {
          "data": {
            "text/plain": [
              "(30,)"
            ]
          },
          "execution_count": 27,
          "metadata": {},
          "output_type": "execute_result"
        }
      ],
      "source": [
        "k2= k.flatten('F') # forms a 1D array where elements in a column are listed before moving to the next column.\n",
        "k2\n",
        "\n",
        "k2.shape"
      ]
    },
    {
      "cell_type": "code",
      "execution_count": null,
      "metadata": {
        "colab": {
          "base_uri": "https://localhost:8080/"
        },
        "id": "c-iWlmU2eT6k",
        "outputId": "4f5a6a6c-277d-4615-fe7d-4a058c3fba20"
      },
      "outputs": [
        {
          "data": {
            "text/plain": [
              "array([0.82960225, 0.48793457, 0.82687037, 0.68135913, 0.77919197,\n",
              "       0.37903377, 0.45851455, 0.50934207, 0.17836735, 0.92516343,\n",
              "       0.09654961, 0.52459262, 0.08637698, 0.06985902, 0.71517875,\n",
              "       0.25613958, 0.44201532, 0.66003986, 0.00968817, 0.49081861,\n",
              "       0.59193516, 0.85263492, 0.20659461, 0.89204966, 0.4694983 ,\n",
              "       0.4764772 , 0.43343897, 0.84727532, 0.13346521, 0.88270929])"
            ]
          },
          "execution_count": 28,
          "metadata": {},
          "output_type": "execute_result"
        }
      ],
      "source": [
        "k2"
      ]
    },
    {
      "cell_type": "code",
      "execution_count": null,
      "metadata": {
        "colab": {
          "base_uri": "https://localhost:8080/"
        },
        "id": "3AVH56rzeWq1",
        "outputId": "7deac4e0-50c1-4e5a-ed33-a3dccf929bab"
      },
      "outputs": [
        {
          "data": {
            "text/plain": [
              "array([[0.82960225, 0.37903377, 0.09654961, 0.25613958, 0.59193516,\n",
              "        0.4764772 ],\n",
              "       [0.48793457, 0.45851455, 0.52459262, 0.44201532, 0.85263492,\n",
              "        0.43343897],\n",
              "       [0.82687037, 0.50934207, 0.08637698, 0.66003986, 0.20659461,\n",
              "        0.84727532],\n",
              "       [0.68135913, 0.17836735, 0.06985902, 0.00968817, 0.89204966,\n",
              "        0.13346521],\n",
              "       [0.77919197, 0.92516343, 0.71517875, 0.49081861, 0.4694983 ,\n",
              "        0.88270929]])"
            ]
          },
          "execution_count": 29,
          "metadata": {},
          "output_type": "execute_result"
        }
      ],
      "source": [
        "k"
      ]
    },
    {
      "cell_type": "markdown",
      "metadata": {
        "id": "8czJZ2OmUHor"
      },
      "source": [
        "#### Flattening Arrays using Numpy Reshape\n"
      ]
    },
    {
      "cell_type": "code",
      "execution_count": null,
      "metadata": {
        "colab": {
          "base_uri": "https://localhost:8080/"
        },
        "id": "fvBbG7XaUHor",
        "outputId": "d57cfc17-5ecc-4e6c-98b1-4d2a2263d6bd"
      },
      "outputs": [
        {
          "data": {
            "text/plain": [
              "(30,)"
            ]
          },
          "execution_count": 30,
          "metadata": {},
          "output_type": "execute_result"
        }
      ],
      "source": [
        "k4= k.reshape(-1)\n",
        "k4\n",
        "\n",
        "k4.shape"
      ]
    },
    {
      "cell_type": "code",
      "execution_count": null,
      "metadata": {
        "colab": {
          "base_uri": "https://localhost:8080/"
        },
        "id": "T7LHY5wbedB9",
        "outputId": "3beb3858-22e9-422e-a6d7-111800baefca"
      },
      "outputs": [
        {
          "data": {
            "text/plain": [
              "array([0.82960225, 0.37903377, 0.09654961, 0.25613958, 0.59193516,\n",
              "       0.4764772 , 0.48793457, 0.45851455, 0.52459262, 0.44201532,\n",
              "       0.85263492, 0.43343897, 0.82687037, 0.50934207, 0.08637698,\n",
              "       0.66003986, 0.20659461, 0.84727532, 0.68135913, 0.17836735,\n",
              "       0.06985902, 0.00968817, 0.89204966, 0.13346521, 0.77919197,\n",
              "       0.92516343, 0.71517875, 0.49081861, 0.4694983 , 0.88270929])"
            ]
          },
          "execution_count": 31,
          "metadata": {},
          "output_type": "execute_result"
        }
      ],
      "source": [
        "k4"
      ]
    },
    {
      "cell_type": "markdown",
      "metadata": {
        "id": "33LonepSUHor"
      },
      "source": [
        "### d. Squeezing & Expanding Arrays"
      ]
    },
    {
      "cell_type": "markdown",
      "metadata": {
        "id": "bdq97bdKUHos"
      },
      "source": [
        "#### Squeezing Numpy Arrays\n",
        "\n",
        "The squeeze operation allows reduction of numpy arrays axes by dropping a specified axis, so long as it is of **unit length**. The product of the shape (overall size of the array) remains the same."
      ]
    },
    {
      "cell_type": "code",
      "execution_count": null,
      "metadata": {
        "colab": {
          "base_uri": "https://localhost:8080/"
        },
        "id": "Gt4yJQejUHos",
        "outputId": "de6de111-73b0-4339-8e58-c24e4075b2c2"
      },
      "outputs": [
        {
          "name": "stdout",
          "output_type": "stream",
          "text": [
            "Original Array: \n",
            "[[[0.48841006 0.41456749 0.17411195 0.47528944 0.78364797]]\n",
            "\n",
            " [[0.55642943 0.15986708 0.14382937 0.64946303 0.5392236 ]]\n",
            "\n",
            " [[0.32568477 0.14701389 0.15987007 0.12941234 0.57892239]]\n",
            "\n",
            " [[0.09226017 0.91054472 0.08297175 0.80037846 0.87713097]]]\n",
            "\n",
            "Shape of Original Array: (4, 1, 5)\n",
            "Squeezed Array: \n",
            " [[0.48841006 0.41456749 0.17411195 0.47528944 0.78364797]\n",
            " [0.55642943 0.15986708 0.14382937 0.64946303 0.5392236 ]\n",
            " [0.32568477 0.14701389 0.15987007 0.12941234 0.57892239]\n",
            " [0.09226017 0.91054472 0.08297175 0.80037846 0.87713097]]\n",
            "\n",
            "Shape of Squeezed Array: (4, 5)\n"
          ]
        }
      ],
      "source": [
        "sq = np.random.rand(4, 1, 5)\n",
        "print(f\"Original Array: \\n{sq}\\n\")\n",
        "print(f\"Shape of Original Array: {sq.shape}\")\n",
        "\n",
        "# transforms from (4, 1, 5) -> (4, 5)\n",
        "sq1 = np.squeeze(sq)\n",
        "print(f\"Squeezed Array: \\n {sq1}\\n\")\n",
        "print(f\"Shape of Squeezed Array: {sq1.shape}\")"
      ]
    },
    {
      "cell_type": "code",
      "execution_count": null,
      "metadata": {
        "colab": {
          "base_uri": "https://localhost:8080/"
        },
        "id": "dZOR7s60UHos",
        "outputId": "82ae4747-3e18-4a3a-8af4-7b486b968fcf"
      },
      "outputs": [
        {
          "name": "stdout",
          "output_type": "stream",
          "text": [
            "Specified axis Squeezed Array: \n",
            " [[0.48841006 0.41456749 0.17411195 0.47528944 0.78364797]\n",
            " [0.55642943 0.15986708 0.14382937 0.64946303 0.5392236 ]\n",
            " [0.32568477 0.14701389 0.15987007 0.12941234 0.57892239]\n",
            " [0.09226017 0.91054472 0.08297175 0.80037846 0.87713097]]\n",
            "\n",
            "Shape of Specified axis Squeezed Array: (4, 5)\n"
          ]
        }
      ],
      "source": [
        "# Squeezing specified axes\n",
        "\n",
        "q2 = np.squeeze(sq, axis=1)\n",
        "print(f\"Specified axis Squeezed Array: \\n {q2}\\n\")\n",
        "print(f\"Shape of Specified axis Squeezed Array: {q2.shape}\")"
      ]
    },
    {
      "cell_type": "markdown",
      "metadata": {
        "id": "l-zzkLDuUHos"
      },
      "source": [
        "#### Unsqueezing (Expanding) Numpy Arrays\n",
        "This is the direct opposite of squeezing. A new unit axis is inserted in specified position. Multiple unit axes can be inserted by using a tuple on the axis attribute of the `expand_dims` method."
      ]
    },
    {
      "cell_type": "code",
      "execution_count": null,
      "metadata": {
        "colab": {
          "base_uri": "https://localhost:8080/"
        },
        "id": "3Jthh31sUHos",
        "outputId": "be22c444-2dee-457d-e97d-b5b4510eaf11"
      },
      "outputs": [
        {
          "name": "stdout",
          "output_type": "stream",
          "text": [
            "Original Array: \n",
            " [[0.09345946 0.42630588 0.47322067 0.58019711 0.71624417]\n",
            " [0.02706898 0.73139734 0.76696351 0.00976644 0.30828617]\n",
            " [0.23286547 0.50342743 0.95372138 0.5578113  0.09746869]\n",
            " [0.62167849 0.86302262 0.15763228 0.99242952 0.08500107]]\n",
            "\n",
            "Shape of Original Array: (4, 5)\n",
            "Expanded Array: \n",
            " [[[0.09345946 0.42630588 0.47322067 0.58019711 0.71624417]]\n",
            "\n",
            " [[0.02706898 0.73139734 0.76696351 0.00976644 0.30828617]]\n",
            "\n",
            " [[0.23286547 0.50342743 0.95372138 0.5578113  0.09746869]]\n",
            "\n",
            " [[0.62167849 0.86302262 0.15763228 0.99242952 0.08500107]]]\n",
            "\n",
            "Shape of Expanded Array: (4, 1, 5)\n",
            "Multi-axes Expanded Array: \n",
            " [[[[0.09345946 0.42630588 0.47322067 0.58019711 0.71624417]]\n",
            "\n",
            "  [[0.02706898 0.73139734 0.76696351 0.00976644 0.30828617]]\n",
            "\n",
            "  [[0.23286547 0.50342743 0.95372138 0.5578113  0.09746869]]\n",
            "\n",
            "  [[0.62167849 0.86302262 0.15763228 0.99242952 0.08500107]]]]\n",
            "\n",
            "Shape of Multi-axes Expanded Array: (1, 4, 1, 5)\n"
          ]
        }
      ],
      "source": [
        "y = np.random.rand(4, 5)\n",
        "print(f\"Original Array: \\n {y}\\n\")\n",
        "print(f\"Shape of Original Array: {y.shape}\")\n",
        "\n",
        "# transforms from (4, 5) -> (4, 1, 5)\n",
        "y1 = np.expand_dims(y, axis=1)\n",
        "print(f\"Expanded Array: \\n {y1}\\n\")\n",
        "print(f\"Shape of Expanded Array: {y1.shape}\")\n",
        "\n",
        "# transforms from (4, 5) -> (1, 4, 1, 5)\n",
        "y2 = np.expand_dims(y, axis=(0, 2))\n",
        "print(f\"Multi-axes Expanded Array: \\n {y2}\\n\")\n",
        "print(f\"Shape of Multi-axes Expanded Array: {y2.shape}\")"
      ]
    },
    {
      "cell_type": "markdown",
      "metadata": {
        "id": "7hr7lrN4UHos"
      },
      "source": [
        "## 7. Combining data"
      ]
    },
    {
      "cell_type": "markdown",
      "metadata": {
        "id": "L37f1yjDUHos"
      },
      "source": [
        "### a. Concatenation\n",
        "\n",
        "A concatenation operation joins a sequence of arrays along an *existing* axis. All arrays must either have the same shape (except in the concatenating dimension) or be empty."
      ]
    },
    {
      "cell_type": "code",
      "execution_count": null,
      "metadata": {
        "colab": {
          "base_uri": "https://localhost:8080/"
        },
        "id": "Ba8rV1KZUHot",
        "outputId": "17dde2d9-ac23-41ae-d229-b4beaf64231d"
      },
      "outputs": [
        {
          "name": "stdout",
          "output_type": "stream",
          "text": [
            "Array 1 is \n",
            " [[[1 2]\n",
            "  [2 2]]\n",
            "\n",
            " [[2 2]\n",
            "  [0 2]]\n",
            "\n",
            " [[0 0]\n",
            "  [1 1]]]  with dimensions  (3, 2, 2) \n",
            "\n",
            "Array 2 is \n",
            " [[[2 1]\n",
            "  [0 3]]\n",
            "\n",
            " [[2 1]\n",
            "  [3 0]]\n",
            "\n",
            " [[1 2]\n",
            "  [1 2]]]  with dimensions  (3, 2, 2) \n",
            "\n",
            "Concatenated array 1 is \n",
            " [[[1 2]\n",
            "  [2 2]]\n",
            "\n",
            " [[2 2]\n",
            "  [0 2]]\n",
            "\n",
            " [[0 0]\n",
            "  [1 1]]\n",
            "\n",
            " [[2 1]\n",
            "  [0 3]]\n",
            "\n",
            " [[2 1]\n",
            "  [3 0]]\n",
            "\n",
            " [[1 2]\n",
            "  [1 2]]] \n",
            "\n",
            " and the dimensions of the concatenated array 1 are: \n",
            " (6, 2, 2)\n",
            "Concatenated array 2 is \n",
            " [[[1 2]\n",
            "  [2 2]\n",
            "  [2 1]\n",
            "  [0 3]]\n",
            "\n",
            " [[2 2]\n",
            "  [0 2]\n",
            "  [2 1]\n",
            "  [3 0]]\n",
            "\n",
            " [[0 0]\n",
            "  [1 1]\n",
            "  [1 2]\n",
            "  [1 2]]] \n",
            "\n",
            " and the dimensions of the concatenated array 2 are: \n",
            " (3, 4, 2)\n",
            "Concatenated array 3 is \n",
            " [[[1 2 2 1]\n",
            "  [2 2 0 3]]\n",
            "\n",
            " [[2 2 2 1]\n",
            "  [0 2 3 0]]\n",
            "\n",
            " [[0 0 1 2]\n",
            "  [1 1 1 2]]] \n",
            "\n",
            " and the dimensions of the concatenated array 3 are: \n",
            " (3, 2, 4)\n"
          ]
        }
      ],
      "source": [
        "# Concatenating Numpy Arrays\n",
        "\n",
        "array1 = np.random.randint(3, size = (3, 2, 2))\n",
        "print(\"Array 1 is \\n\", array1, \" with dimensions \", array1.shape, \"\\n\")\n",
        "\n",
        "array2 = np.random.randint(4, size = (3, 2, 2))\n",
        "print(\"Array 2 is \\n\", array2, \" with dimensions \", array2.shape, \"\\n\")\n",
        "\n",
        "concatenated_array1 = np.concatenate((array1, array2), axis = 0)\n",
        "print(\"Concatenated array 1 is \\n\", concatenated_array1, \"\\n\\n\", \"and the dimensions of the concatenated array 1 are: \\n\", concatenated_array1.shape)\n",
        "\n",
        "concatenated_array2 = np.concatenate((array1, array2), axis = 1)\n",
        "print(\"Concatenated array 2 is \\n\", concatenated_array2, \"\\n\\n\", \"and the dimensions of the concatenated array 2 are: \\n\", concatenated_array2.shape)\n",
        "\n",
        "concatenated_array3 = np.concatenate((array1, array2), axis = 2)\n",
        "print(\"Concatenated array 3 is \\n\", concatenated_array3, \"\\n\\n\", \"and the dimensions of the concatenated array 3 are: \\n\", concatenated_array3.shape)\n"
      ]
    },
    {
      "cell_type": "markdown",
      "metadata": {
        "id": "d9QRbjBpUHot"
      },
      "source": [
        "### b. Stacking\n",
        "\n",
        "The stack operation joins a sequence of arrays along a *new* axis. The axis parameter specifies the index of the new axis in the dimensions of the result. For example, if axis = 0 it will be the first dimension and if axis = -1 it will be the last dimension. All arrays need to be of the same size.  The stacked array has one more dimension than the input arrays."
      ]
    },
    {
      "cell_type": "code",
      "execution_count": null,
      "metadata": {
        "colab": {
          "base_uri": "https://localhost:8080/"
        },
        "id": "y_AnhX6qUHot",
        "outputId": "d152a8cb-658b-42dd-d6a1-7e79697410eb"
      },
      "outputs": [
        {
          "name": "stdout",
          "output_type": "stream",
          "text": [
            "Array 1 is \n",
            " [1 2 3]  with dimensions  (3,) \n",
            "\n",
            "Array 2 is \n",
            " [4 5 6]  with dimensions  (3,) \n",
            "\n",
            "Stacked array 1 is \n",
            " [[1 2 3]\n",
            " [4 5 6]]  with dimensions  (2, 3)\n",
            "Stacked array 2 is \n",
            " [[1 4]\n",
            " [2 5]\n",
            " [3 6]]  with dimensions  (3, 2)\n",
            "Stacked array 3 is \n",
            " [[1 4]\n",
            " [2 5]\n",
            " [3 6]]  with dimensions  (3, 2)\n"
          ]
        }
      ],
      "source": [
        "# Stacking 1-d Arrays\n",
        "\n",
        "array1 = np.array([1, 2, 3])\n",
        "print(\"Array 1 is \\n\", array1, \" with dimensions \", array1.shape, \"\\n\")\n",
        "\n",
        "array2 = np.array([4, 5, 6])\n",
        "print(\"Array 2 is \\n\", array2, \" with dimensions \", array2.shape, \"\\n\")\n",
        "\n",
        "\n",
        "stacked_array1 = np.stack((array1, array2), axis = 0)\n",
        "print(\"Stacked array 1 is \\n\", stacked_array1, \" with dimensions \", stacked_array1.shape)\n",
        "\n",
        "stacked_array2 = np.stack((array1, array2), axis = 1)\n",
        "print(\"Stacked array 2 is \\n\", stacked_array2, \" with dimensions \", stacked_array2.shape)\n",
        "\n",
        "stacked_array3 = np.stack((array1, array2), axis = -1)\n",
        "print(\"Stacked array 3 is \\n\", stacked_array3, \" with dimensions \", stacked_array3.shape)"
      ]
    },
    {
      "cell_type": "code",
      "execution_count": null,
      "metadata": {
        "colab": {
          "base_uri": "https://localhost:8080/"
        },
        "id": "j4xwzB_GUHot",
        "outputId": "9931f8e0-bb72-43f4-d332-b2ef054a540f"
      },
      "outputs": [
        {
          "name": "stdout",
          "output_type": "stream",
          "text": [
            "Array 1 has dimensions  (3, 4, 5) \n",
            "\n",
            "Array 2 has dimensions  (3, 4, 5) \n",
            "\n",
            "Stacked array 1 has dimensions (2, 3, 4, 5) \n",
            "\n",
            "Stacked array 2 has dimensions (3, 2, 4, 5) \n",
            "\n",
            "Stacked array 3 has dimensions (3, 4, 2, 5) \n",
            "\n",
            "Stacked array 4 has dimensions (3, 4, 5, 2) \n",
            "\n"
          ]
        }
      ],
      "source": [
        "\n",
        "# Stacking Numpy Arrays\n",
        "\n",
        "array1 = np.random.randint(3, size = (3, 4, 5))\n",
        "print(\"Array 1 has dimensions \", array1.shape, \"\\n\")\n",
        "\n",
        "array2 = np.random.randint(4, size = (3, 4, 5))\n",
        "print(\"Array 2 has dimensions \", array2.shape, \"\\n\")\n",
        "\n",
        "stacked_array1 = np.stack((array1, array2), axis = 0)\n",
        "print(\"Stacked array 1 has dimensions\", stacked_array1.shape, \"\\n\")\n",
        "\n",
        "stacked_array2 = np.stack((array1, array2), axis = 1)\n",
        "print(\"Stacked array 2 has dimensions\", stacked_array2.shape, \"\\n\")\n",
        "\n",
        "stacked_array3 = np.stack((array1, array2), axis = 2)\n",
        "print(\"Stacked array 3 has dimensions\", stacked_array3.shape, \"\\n\")\n",
        "\n",
        "stacked_array4 = np.stack((array1, array2), axis = -1)\n",
        "print(\"Stacked array 4 has dimensions\", stacked_array4.shape, \"\\n\")"
      ]
    },
    {
      "cell_type": "markdown",
      "metadata": {
        "id": "chG_xZQzUHou"
      },
      "source": [
        "## 8. Math operations"
      ]
    },
    {
      "cell_type": "markdown",
      "metadata": {
        "id": "DCOozLreUHou"
      },
      "source": [
        "In this section we will cover some commonly used mathematical operations\n",
        "1. Broadcasting\n",
        "1. Point-wise/element-wise operations\n",
        "1. Reduction operations\n",
        "1. Comparison operations\n",
        "1. Vector/Matrix operations\n",
        "1. Tensordot"
      ]
    },
    {
      "cell_type": "markdown",
      "metadata": {
        "id": "y7LOmf3xUHou"
      },
      "source": [
        "### a. Broadcasting"
      ]
    },
    {
      "cell_type": "code",
      "execution_count": null,
      "metadata": {
        "colab": {
          "base_uri": "https://localhost:8080/"
        },
        "id": "mjUBxfsfUHou",
        "outputId": "baeecdf2-cd59-4641-908e-02c8f05aa4e7"
      },
      "outputs": [
        {
          "name": "stdout",
          "output_type": "stream",
          "text": [
            "A row array: \n",
            " [[0.90773296 0.73988392 0.89806236]]  with dimensions  (1, 3) \n",
            "\n",
            "A column array: \n",
            " [[0.67258231]\n",
            " [0.52893993]\n",
            " [0.30444636]\n",
            " [0.99796225]]  with dimensions  (4, 1) \n",
            "\n",
            "row array + column array = \n",
            "[[1.58031527 1.41246623 1.57064467]\n",
            " [1.43667289 1.26882385 1.42700229]\n",
            " [1.21217932 1.04433028 1.20250872]\n",
            " [1.90569521 1.73784617 1.89602461]]  with dimensions  (4, 3) \n",
            "\n",
            "row array * column array = \n",
            "[[0.61052513 0.49763284 0.60402086]\n",
            " [0.48013621 0.39135415 0.47502104]\n",
            " [0.276356   0.22525497 0.27341182]\n",
            " [0.90588323 0.73837622 0.89623233]]  with dimensions  (4, 3) \n",
            "\n"
          ]
        }
      ],
      "source": [
        "# Broadcasting b/w arrays of different dimensions\n",
        "# Note: When broadting two multi-dimensional tensors, match their corresponding dimensions beginning from the last dimension.\n",
        "# All dimensions should either match or one of the arrays should have length 1 in that specific dimension\n",
        "\n",
        "row_arr = np.random.rand(1,3)\n",
        "print(\"A row array: \\n\", row_arr, \" with dimensions \", row_arr.shape, \"\\n\")\n",
        "col_arr = np.random.rand(4,1)\n",
        "print(\"A column array: \\n\", col_arr, \" with dimensions \", col_arr.shape, \"\\n\")\n",
        "\n",
        "add_arr = row_arr + col_arr\n",
        "print(\"row array + column array = \")\n",
        "print(add_arr,\" with dimensions \", add_arr.shape, \"\\n\")\n",
        "mul_arr = row_arr * col_arr\n",
        "print(\"row array * column array = \")\n",
        "print(mul_arr,\" with dimensions \", mul_arr.shape, \"\\n\")"
      ]
    },
    {
      "cell_type": "markdown",
      "metadata": {
        "id": "zMPkInHjUHou"
      },
      "source": [
        "### b. Element-wise operations"
      ]
    },
    {
      "cell_type": "code",
      "execution_count": null,
      "metadata": {
        "colab": {
          "base_uri": "https://localhost:8080/"
        },
        "id": "okX63kwLUHou",
        "outputId": "76b46524-752c-4ebc-fc78-7f6d65a3dd0b"
      },
      "outputs": [
        {
          "name": "stdout",
          "output_type": "stream",
          "text": [
            "A random array1 : \n",
            " [[0.36218906 0.47064895 0.37824517]\n",
            " [0.97952693 0.17465839 0.327988  ]]  with dimensions  (2, 3) \n",
            "\n",
            "A random array2 : \n",
            " [[0.68034867 0.06320762 0.60724937]\n",
            " [0.4776465  0.28399998 0.23841328]]  with dimensions  (2, 3) \n",
            "\n",
            "random array1 + 5.0 =\n",
            "[[5.36218906 5.47064895 5.37824517]\n",
            " [5.97952693 5.17465839 5.327988  ]] \n",
            "\n",
            "random array1 * 5.0 =\n",
            "[[1.81094529 2.35324475 1.89122587]\n",
            " [4.89763465 0.87329193 1.63994   ]] \n",
            "\n",
            "random array1 + random array2 =\n",
            "[[1.04253772 0.53385657 0.98549455]\n",
            " [1.45717343 0.45865836 0.56640128]] \n",
            "\n",
            "random array1 * random array2 =\n",
            "[[0.24641484 0.0297486  0.22968915]\n",
            " [0.46786761 0.04960298 0.0781967 ]] \n",
            "\n",
            "abs (-10 * random array1) =\n",
            "[[3.62189059 4.70648949 3.78245175]\n",
            " [9.79526929 1.74658385 3.27988001]] \n",
            "\n",
            "sqrt(random array1) = \n",
            " [[0.60182145 0.68603859 0.6150164 ]\n",
            " [0.98971053 0.41792151 0.57270237]] \n",
            "\n"
          ]
        }
      ],
      "source": [
        "rand_arr_1 = np.random.rand(2,3)\n",
        "print(\"A random array1 : \\n\", rand_arr_1, \" with dimensions \", rand_arr_1.shape, \"\\n\")\n",
        "rand_arr_2 = np.random.rand(2,3)\n",
        "print(\"A random array2 : \\n\", rand_arr_2, \" with dimensions \", rand_arr_2.shape, \"\\n\")\n",
        "scalar = 5.0\n",
        "\n",
        "# Addition with Scalars\n",
        "new_arr_1 = rand_arr_1 + scalar\n",
        "print(\"random array1 + 5.0 =\")\n",
        "print(new_arr_1, \"\\n\")\n",
        "\n",
        "# Multiplication with Scalars\n",
        "new_arr_2 = rand_arr_1 * scalar\n",
        "print(\"random array1 * 5.0 =\")\n",
        "print(new_arr_2, \"\\n\")\n",
        "\n",
        "# Elementwise Addition of Arrays\n",
        "new_arr_3 = rand_arr_1 + rand_arr_2\n",
        "print(\"random array1 + random array2 =\")\n",
        "print(new_arr_3, \"\\n\")\n",
        "\n",
        "# Elementwise Multiplication of Arrays aka Hadmard Product\n",
        "new_arr_4 = rand_arr_1 * rand_arr_2\n",
        "print(\"random array1 * random array2 =\")\n",
        "print(new_arr_4, \"\\n\") # also equivalent to np.multiply(array1, array2)\n",
        "\n",
        "# Absolute value\n",
        "new_arr_5 = np.abs(-10*rand_arr_1)\n",
        "print(\"abs (-10 * random array1) =\")\n",
        "print(new_arr_5, \"\\n\")\n",
        "\n",
        "# Square root value\n",
        "new_arr_6 = np.sqrt(rand_arr_1)\n",
        "print('sqrt(random array1) = \\n', new_arr_6, \"\\n\")"
      ]
    },
    {
      "cell_type": "markdown",
      "metadata": {
        "id": "nqM9lvnXUHov"
      },
      "source": [
        "### c. Reduction"
      ]
    },
    {
      "cell_type": "code",
      "execution_count": null,
      "metadata": {
        "colab": {
          "base_uri": "https://localhost:8080/"
        },
        "id": "Lbj4OzBFUHov",
        "outputId": "279a700e-284c-4e9c-9dbb-0cd996bbdccf"
      },
      "outputs": [
        {
          "name": "stdout",
          "output_type": "stream",
          "text": [
            "random array: \n",
            " [[0.51451274 0.36792758 0.45651989]\n",
            " [0.33747738 0.97049369 0.13343943]] \n",
            "\n",
            "Maximum value of array \n",
            " 0.9704936935959776 \n",
            "\n",
            "Minimum value of array \n",
            " 0.13343943174560402 \n",
            "\n",
            "Sum of array \n",
            " 2.7803707222042746 \n",
            "\n",
            "Maximum value's index of array along axis 0 \n",
            " [0 1 0] \n",
            "\n",
            "Minimum value's index of array along axis 1 \n",
            " [1 2] \n",
            "\n",
            "Mean value of array \n",
            " 0.4633951203673791 \n",
            "\n",
            "Standard deviation value of array \n",
            " 0.2561410183310268 \n",
            "\n",
            "Norm value of array \n",
            " 1.2969423861959788 \n",
            "\n"
          ]
        }
      ],
      "source": [
        "rand_arr = np.random.rand(2,3)\n",
        "print('random array: \\n', rand_arr, \"\\n\")\n",
        "\n",
        "max_val = np.max(rand_arr)\n",
        "print('Maximum value of array \\n', max_val, \"\\n\")\n",
        "min_val = np.min(rand_arr)\n",
        "print('Minimum value of array \\n', min_val, \"\\n\")\n",
        "\n",
        "sum_val = np.sum(rand_arr)\n",
        "print('Sum of array \\n', sum_val, \"\\n\")\n",
        "max_idx = np.argmax(rand_arr, axis=0)\n",
        "print('Maximum value\\'s index of array along axis 0 \\n', max_idx, \"\\n\")\n",
        "min_idx = np.argmin(rand_arr, axis=1)\n",
        "print('Minimum value\\'s index of array along axis 1 \\n', min_idx, \"\\n\")\n",
        "\n",
        "mean_val = np.mean(rand_arr)\n",
        "print('Mean value of array \\n', mean_val, \"\\n\")\n",
        "std_val = np.std(rand_arr)\n",
        "print('Standard deviation value of array \\n', std_val, \"\\n\")\n",
        "norm_val = np.linalg.norm(rand_arr)\n",
        "print('Norm value of array \\n', norm_val, \"\\n\")"
      ]
    },
    {
      "cell_type": "markdown",
      "metadata": {
        "id": "XcB9hJBVUHov"
      },
      "source": [
        "### d. Comparision"
      ]
    },
    {
      "cell_type": "code",
      "execution_count": null,
      "metadata": {
        "colab": {
          "base_uri": "https://localhost:8080/"
        },
        "id": "TWrd9Z5fUHov",
        "outputId": "026f05d4-692e-4a31-e08d-c8ea86cab51e"
      },
      "outputs": [
        {
          "name": "stdout",
          "output_type": "stream",
          "text": [
            "random array1: \n",
            " [[0.09680395 0.34339173 0.5910269 ]\n",
            " [0.65917647 0.39725675 0.99927799]] \n",
            "\n",
            "random array2: \n",
            " [[0.351893   0.72140667 0.63758269]\n",
            " [0.81305386 0.97622566 0.88979366]] \n",
            "\n",
            "random array1 > random array2\n",
            "[[False False False]\n",
            " [False False  True]] \n",
            "\n",
            "random array1 < random array2\n",
            "[[ True  True  True]\n",
            " [ True  True False]] \n",
            "\n",
            "random array1 != random array2\n",
            "[[ True  True  True]\n",
            " [ True  True  True]] \n",
            "\n",
            "any values for random array1 > random array2:\n",
            "True \n",
            "\n",
            "all values for random array1 > random array2:\n",
            "False \n",
            "\n",
            "any values along first axis for random array1 > random array2:\n",
            "[False False  True] \n",
            "\n",
            "any values along second axis for random array1 > random array2:\n",
            "[False  True] \n",
            "\n",
            "any values for random array1 != random array2:\n",
            "True \n",
            "\n",
            "all values for random array1 != random array2:\n",
            "True \n",
            "\n"
          ]
        }
      ],
      "source": [
        "rand_arr_1 = np.random.rand(2,3)\n",
        "print('random array1: \\n', rand_arr_1, '\\n')\n",
        "rand_arr_2 = np.random.rand(2,3)\n",
        "print('random array2: \\n', rand_arr_2, '\\n')\n",
        "\n",
        "# Element-wise Comparison Operations\n",
        "greater_compare = rand_arr_1 > rand_arr_2\n",
        "print('random array1 > random array2')\n",
        "print(greater_compare, '\\n')\n",
        "\n",
        "less_compare = rand_arr_1 < rand_arr_2\n",
        "print('random array1 < random array2')\n",
        "print(less_compare, '\\n')\n",
        "\n",
        "not_equal_compare = rand_arr_1 != rand_arr_2\n",
        "print('random array1 != random array2')\n",
        "print(not_equal_compare, '\\n')\n",
        "\n",
        "# Combining reduction operations with boolean arrays\n",
        "print(\"any values for random array1 > random array2:\")\n",
        "print((rand_arr_1 > rand_arr_2).any(), \"\\n\")\n",
        "\n",
        "print(\"all values for random array1 > random array2:\")\n",
        "print((rand_arr_1 > rand_arr_2).all(), \"\\n\")\n",
        "\n",
        "print(\"any values along first axis for random array1 > random array2:\")\n",
        "print((rand_arr_1 > rand_arr_2).any(axis=0), \"\\n\")\n",
        "\n",
        "print(\"any values along second axis for random array1 > random array2:\")\n",
        "print((rand_arr_1 > rand_arr_2).any(axis=1), \"\\n\")\n",
        "\n",
        "print(\"any values for random array1 != random array2:\")\n",
        "print((rand_arr_1 != rand_arr_2).any(), \"\\n\")\n",
        "\n",
        "print(\"all values for random array1 != random array2:\")\n",
        "print((rand_arr_1 != rand_arr_2).all(), \"\\n\")"
      ]
    },
    {
      "cell_type": "markdown",
      "metadata": {
        "id": "awS5yNl3UHow"
      },
      "source": [
        "### e. Vector/Matrix operations"
      ]
    },
    {
      "cell_type": "code",
      "execution_count": null,
      "metadata": {
        "colab": {
          "base_uri": "https://localhost:8080/"
        },
        "id": "vxmswikbUHow",
        "outputId": "c8bd4bcb-14dc-433e-f719-7fd1a9aaa44a"
      },
      "outputs": [
        {
          "name": "stdout",
          "output_type": "stream",
          "text": [
            "Array1 \n",
            " [ 0.77140595  1.02943883 -0.90876325] with dimension  (3,) \n",
            "\n",
            "Array2 \n",
            " [-0.42431762  0.86259601 -2.65561909] with dimension  (3,) \n",
            "\n",
            "Matmul of the two arrays can be derived by using np.matmul(array1, array2) \n",
            " 2.9739977176266237\n",
            "Matmul of the two arrays can also be derived by using array1@array2 \n",
            " 2.9739977176266237\n",
            "Dimensions of resulting product: \n",
            " ()\n",
            "Array3 \n",
            " [[ 1.51332808  0.55313206 -0.04570396  0.22050766]\n",
            " [-1.02993528 -0.34994336  1.10028434  1.29802197]\n",
            " [ 2.69622405 -0.07392467 -0.65855297 -0.51423397]] with dimension  (3, 4) \n",
            "\n",
            "Array4 \n",
            " [-1.01804188 -0.07785476  0.38273243 -0.03424228] with dimension  (4,) \n",
            "\n",
            "Matmul of a vector and a matrix can be derived by using np.matmul(array3, array4) \n",
            " [-1.60873839  1.45242927 -2.97355464]\n",
            "Matmul of a vector and a matrix can also be derived by using array3@array4 \n",
            " [-1.60873839  1.45242927 -2.97355464]\n",
            "Dimensions of resulting product: \n",
            " (3,)\n",
            "Matrix1 \n",
            " [[3 1 0]\n",
            " [1 2 2]] with dimension  (2, 3) \n",
            "\n",
            "Matrix2 \n",
            " [[3 2]\n",
            " [1 0]\n",
            " [2 2]] with dimension  (3, 2) \n",
            "\n",
            "Matmul of two matrices can be derived by using np.matmul(matrix1, matrix2) \n",
            " [[10  6]\n",
            " [ 9  6]]\n",
            "Dimensions of resulting product: \n",
            " (2, 2) \n",
            "\n"
          ]
        }
      ],
      "source": [
        "# Vector x Vector\n",
        "array1 = np.random.randn(3)\n",
        "array2 = np.random.randn(3)\n",
        "\n",
        "print('Array1 \\n', array1, 'with dimension ', array1.shape, '\\n')\n",
        "print('Array2 \\n', array2, 'with dimension ', array2.shape, '\\n')\n",
        "\n",
        "matmul_arr = np.matmul(array1, array2)\n",
        "another_arr = array1@array2\n",
        "print('Matmul of the two arrays can be derived by using np.matmul(array1, array2) \\n', matmul_arr)\n",
        "print(\"Matmul of the two arrays can also be derived by using array1@array2 \\n\", another_arr)\n",
        "print('Dimensions of resulting product: \\n', matmul_arr.shape)\n",
        "\n",
        "# Matrix x Vector\n",
        "array3 = np.random.randn(3, 4)\n",
        "array4 = np.random.randn(4)\n",
        "\n",
        "print('Array3 \\n', array3, 'with dimension ', array3.shape, '\\n')\n",
        "print('Array4 \\n', array4, 'with dimension ', array4.shape, '\\n')\n",
        "\n",
        "matmul_arr = np.matmul(array3, array4)\n",
        "another_arr = array3@array4\n",
        "print('Matmul of a vector and a matrix can be derived by using np.matmul(array3, array4) \\n', matmul_arr)\n",
        "print('Matmul of a vector and a matrix can also be derived by using array3@array4 \\n', another_arr)\n",
        "print('Dimensions of resulting product: \\n', matmul_arr.shape)\n",
        "\n",
        "# Matrix x Matrix\n",
        "\n",
        "matrix1 = np.random.randint(4, size = (2, 3))\n",
        "matrix2 = np.random.randint(4, size = (3, 2))\n",
        "\n",
        "print('Matrix1 \\n', matrix1, 'with dimension ', matrix1.shape, '\\n')\n",
        "print('Matrix2 \\n', matrix2, 'with dimension ', matrix2.shape, '\\n')\n",
        "\n",
        "matmul_mat = np.matmul(matrix1, matrix2)\n",
        "print('Matmul of two matrices can be derived by using np.matmul(matrix1, matrix2) \\n', matmul_mat)\n",
        "print('Dimensions of resulting product: \\n', matmul_mat.shape, \"\\n\")"
      ]
    },
    {
      "cell_type": "code",
      "execution_count": null,
      "metadata": {
        "colab": {
          "base_uri": "https://localhost:8080/"
        },
        "id": "5fJcvlZ6UHow",
        "outputId": "be5115a3-1f76-44b6-8e6e-670346950973"
      },
      "outputs": [
        {
          "name": "stdout",
          "output_type": "stream",
          "text": [
            "Matrix1 \n",
            " [[0.67138348 0.34471813]\n",
            " [0.71376687 0.6391869 ]\n",
            " [0.39916115 0.43176013]\n",
            " [0.6145277  0.07004219]] with dimension  (4, 2) \n",
            "\n",
            "Matrix2 \n",
            " [[0.82240674 0.65342116 0.72634246]\n",
            " [0.536923   0.11047711 0.40503561]] with dimension  (2, 3) \n",
            "\n",
            "Dot product of two matrices can be derived by using np.dot(mat1, mat2) \n",
            " [[0.73723739 0.47677964 0.62727745]\n",
            " [0.93020083 0.5370059  0.77733264]\n",
            " [0.56009476 0.30851995 0.46480592]\n",
            " [0.54299898 0.40928346 0.47472715]]\n",
            "Dot product of two matrices can also be derived by using mat1@mat2 \n",
            " [[0.73723739 0.47677964 0.62727745]\n",
            " [0.93020083 0.5370059  0.77733264]\n",
            " [0.56009476 0.30851995 0.46480592]\n",
            " [0.54299898 0.40928346 0.47472715]]\n",
            "Dimensions of resulting product: \n",
            " (4, 3)\n",
            "array1 's dimension  (9, 5, 7, 4) \n",
            "\n",
            "array2 's dimension  (9, 5, 4, 3) \n",
            "\n",
            "Matmul of two multi-dimension arrays can be derived by using np.matmul(array1, array2) \n",
            "\n",
            "Dimensions of resulting product: \n",
            " (9, 5, 7, 3)\n"
          ]
        }
      ],
      "source": [
        "rand_mat_1 = np.random.rand(4,2)\n",
        "rand_mat_2 = np.random.rand(2,3)\n",
        "print('Matrix1 \\n', rand_mat_1, 'with dimension ', rand_mat_1.shape, '\\n')\n",
        "print('Matrix2 \\n', rand_mat_2, 'with dimension ', rand_mat_2.shape, '\\n')\n",
        "\n",
        "# dot product\n",
        "dot_mat = np.dot(rand_mat_1, rand_mat_2)\n",
        "another_mat = rand_mat_1@rand_mat_2\n",
        "print('Dot product of two matrices can be derived by using np.dot(mat1, mat2) \\n', dot_mat)\n",
        "print('Dot product of two matrices can also be derived by using mat1@mat2 \\n', another_mat)\n",
        "print('Dimensions of resulting product: \\n', dot_mat.shape)\n",
        "\n",
        "a = np.ones([9, 5, 7, 4])\n",
        "b = np.ones([9, 5, 4, 3])\n",
        "print('array1 \\'s dimension ', a.shape, '\\n')\n",
        "print('array2 \\'s dimension ', b.shape, '\\n')\n",
        "\n",
        "# matmul with multi-dimenstion arrays\n",
        "c = np.matmul(a,b)\n",
        "print('Matmul of two multi-dimension arrays can be derived by using np.matmul(array1, array2) \\n')\n",
        "print('Dimensions of resulting product: \\n', c.shape)"
      ]
    },
    {
      "cell_type": "markdown",
      "metadata": {
        "id": "80x-iKA2UHow"
      },
      "source": [
        "### f. Tensordot\n",
        "\n",
        "Understanding tensordot function will help you in writing succint code for your homeworks especially in Convolutional Neural Net assignment.\n",
        "\n",
        "To give a brief overview:\n",
        "We input the arrays and the respective axes along which the sum-reductions are intended. The axes that take part in sum-reduction are removed in the output and all of the remaining axes from the input arrays are spread-out as different axes in the output keeping the order in which the input arrays are fed.\n",
        "\n",
        "To understand in depth please checkout: https://stackoverflow.com/questions/41870228/understanding-tensordot"
      ]
    },
    {
      "cell_type": "code",
      "execution_count": null,
      "metadata": {
        "colab": {
          "base_uri": "https://localhost:8080/"
        },
        "id": "s8FjIoZHUHow",
        "outputId": "ebe8d22d-cb05-45d8-fcd1-c65be1616072"
      },
      "outputs": [
        {
          "name": "stdout",
          "output_type": "stream",
          "text": [
            "A 's dimension  (3, 4, 5) \n",
            "\n",
            "B 's dimension  (4, 3, 2) \n",
            "\n",
            "A⨂B =\n",
            " [[4400. 4730.]\n",
            " [4532. 4874.]\n",
            " [4664. 5018.]\n",
            " [4796. 5162.]\n",
            " [4928. 5306.]]  with dimension (5, 2) \n",
            "\n",
            "tensor dot is equal to sum over certain dimensions.\n",
            "\n",
            "[[ True  True]\n",
            " [ True  True]\n",
            " [ True  True]\n",
            " [ True  True]\n",
            " [ True  True]]\n"
          ]
        }
      ],
      "source": [
        "a = np.arange(60.).reshape(3,4,5)\n",
        "b = np.arange(24.).reshape(4,3,2)\n",
        "print('A \\'s dimension ', a.shape, '\\n')\n",
        "print('B \\'s dimension ', b.shape, '\\n')\n",
        "\n",
        "# compute tensor dot product along specified axes.\n",
        "c = np.tensordot(a,b, axes=([1,0],[0,1]))\n",
        "print(\"A⨂B =\\n\", c, ' with dimension', c.shape, '\\n')\n",
        "\n",
        "# this equals to\n",
        "d = np.zeros((5,2))\n",
        "for i in range(5):\n",
        "  for j in range(2):\n",
        "    for k in range(3):\n",
        "      for n in range(4):\n",
        "        d[i,j] += a[k,n,i] * b[n,k,j]\n",
        "print(\"tensor dot is equal to sum over certain dimensions.\\n\")\n",
        "print(c==d)"
      ]
    },
    {
      "cell_type": "code",
      "execution_count": null,
      "metadata": {
        "id": "h3dKTxEQrpMy"
      },
      "outputs": [],
      "source": []
    }
  ],
  "metadata": {
    "colab": {
      "provenance": []
    },
    "kernelspec": {
      "display_name": "Python 3.8.10 ('torch17')",
      "language": "python",
      "name": "python3"
    },
    "language_info": {
      "name": "python",
      "version": "3.8.10"
    },
    "orig_nbformat": 4,
    "vscode": {
      "interpreter": {
        "hash": "9a34e97cc6e2615ab92a28698ea9d0348d286f96a72c3605984746b76cc50ac7"
      }
    }
  },
  "nbformat": 4,
  "nbformat_minor": 0
}
